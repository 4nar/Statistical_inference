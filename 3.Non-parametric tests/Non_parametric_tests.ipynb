{
 "cells": [
  {
   "cell_type": "markdown",
   "metadata": {},
   "source": [
    "## Non parametric statistics\n",
    "\n",
    "Statistical models can be roughly divided into two classes, parametric and non-parametric.\n",
    "\n",
    "A model is parametric if it is fully defined by set of parameters $\\theta_1, \\theta_2,...,\\theta_K$ (we assume a certain \"family\" of distributions, e.g normal or exponential)\n",
    "\n",
    "A model is non-parametric if it does not assume a specific family of distribution. \n",
    "\n",
    "Stricter assumptions -> more powerful results -> more narrow area of application."
   ]
  },
  {
   "cell_type": "markdown",
   "metadata": {},
   "source": [
    "## Sign tests\n",
    "\n",
    "\n",
    "### One-sample sign test\n",
    "\n",
    "One-sample sign test is applied in similar testing problems as one-sample t-test. However, it makes much milder distributional assumptions.\n",
    "\n",
    "One-sample sign test, assumptions\n",
    "* Let $x_1, ..., x_n$ be an i.i.d sample from continuous distribution with the median m.\n",
    "\n",
    "One-sample sign test, hypotheses $$H_0: m = m_0, H_1: m \\neq m_0$$\n",
    "\n",
    "One-sample sign test, test statistic\n",
    "\n",
    "* The test statistic S equals to number of cases with $x_i>m_0$ (alternatively, the number of cases with $x_i<m_0$) and follows binomial distribution with parameters n and $\\frac{1}{2}$ under $H_0$\n",
    "* Under $H_0$ the expected value of the test statistic is $\\frac{1}{2} n$ (its variance is $\\frac{1}{4}n$) and both large and small values of the test statistic suggest that the null hypothesis $H_0$ is false.\n"
   ]
  },
  {
   "cell_type": "markdown",
   "metadata": {},
   "source": [
    "### One-sample sign test, asymptotic distribution\n",
    "\n",
    "* If the sample size is large, then the standardized test statistic $$Z = \\frac{S - \\frac{n}{2}}{\\sqrt{\\frac{n}{4}}}$$ follows approximately the standard normal distribution under $H_0$\n",
    "\n",
    "* For large n, the p-value of the test can thus be retrieved from a normal table.\n",
    "* The approximation is usually good enough when n>20. For smaller samples, it is better to rely on the exact distribution of the test statistic S (which is binomial distribution)."
   ]
  },
  {
   "cell_type": "markdown",
   "metadata": {},
   "source": [
    "### One-sample sign test and discreet distributions\n",
    "\n",
    "Sign test can be used for discrete variables as well\n",
    "\n",
    "In that case, it is possible that for some of the differences, $x_i-m_0=0$, are neither positive nor negative.\n",
    "\n",
    "If the number of zeros is small compared to the sample size, these observations can be deleted and the sample size can be modified accordingly.\n",
    "\n",
    "If the number of zeros is large, then the zeros should be dealt with such that they are against rejecting a null hypothesis (conservative approach)\n",
    "\n",
    "* For example, consider the case of two-tailed alternative hypothesis, 3 negative difference, 15 positive differences and 6 zero differences. Now the test should be conducted as there were 9 negative differences and 15 positive ones.\n"
   ]
  },
  {
   "cell_type": "markdown",
   "metadata": {},
   "source": [
    "### One-sample sign test example"
   ]
  },
  {
   "cell_type": "code",
   "execution_count": 2,
   "metadata": {},
   "outputs": [
    {
     "name": "stdout",
     "output_type": "stream",
     "text": [
      "   eruptions  waiting\n",
      "0      3.600       79\n",
      "1      1.800       54\n",
      "2      3.333       74\n",
      "3      2.283       62\n",
      "4      4.533       85\n"
     ]
    }
   ],
   "source": [
    "import statsmodels.api as sm\n",
    "faithful = sm.datasets.get_rdataset(\"faithful\", cache=True).data\n",
    "print (faithful.head())"
   ]
  },
  {
   "cell_type": "code",
   "execution_count": 4,
   "metadata": {},
   "outputs": [],
   "source": [
    "# Claim: the location of eruption times equal to 3 minutes 35 seconds\n",
    "import matplotlib.pyplot as plt\n",
    "import seaborn as sns\n",
    "%matplotlib inline"
   ]
  },
  {
   "cell_type": "code",
   "execution_count": 9,
   "metadata": {},
   "outputs": [
    {
     "data": {
      "text/plain": [
       "Text(0, 0.5, 'waiting')"
      ]
     },
     "execution_count": 9,
     "metadata": {},
     "output_type": "execute_result"
    },
    {
     "data": {
      "image/png": "[encoded data removed]",
      "text/plain": [
       "<Figure size 432x288 with 1 Axes>"
      ]
     },
     "metadata": {
      "needs_background": "light"
     },
     "output_type": "display_data"
    }
   ],
   "source": [
    "plt.plot(faithful['eruptions'], faithful['waiting'], 'o')\n",
    "plt.xlabel('eruptions')\n",
    "plt.ylabel('waiting')"
   ]
  },
  {
   "cell_type": "code",
   "execution_count": 11,
   "metadata": {},
   "outputs": [
    {
     "data": {
      "text/plain": [
       "(array([ 4., 32., 22., 10., 13., 10.,  1.,  2.,  1.,  2.,  1.,  0.,  5.,\n",
       "         3.,  7., 11., 10., 20., 19., 21., 27., 19., 19.,  9.,  4.]),\n",
       " array([1.6 , 1.74, 1.88, 2.02, 2.16, 2.3 , 2.44, 2.58, 2.72, 2.86, 3.  ,\n",
       "        3.14, 3.28, 3.42, 3.56, 3.7 , 3.84, 3.98, 4.12, 4.26, 4.4 , 4.54,\n",
       "        4.68, 4.82, 4.96, 5.1 ]),\n",
       " <a list of 25 Patch objects>)"
      ]
     },
     "execution_count": 11,
     "metadata": {},
     "output_type": "execute_result"
    },
    {
     "data": {
      "image/png": "[encoded data removed]",
      "text/plain": [
       "<Figure size 432x288 with 1 Axes>"
      ]
     },
     "metadata": {
      "needs_background": "light"
     },
     "output_type": "display_data"
    }
   ],
   "source": [
    "plt.hist(faithful['eruptions'], 25)"
   ]
  },
  {
   "cell_type": "code",
   "execution_count": 12,
   "metadata": {},
   "outputs": [],
   "source": [
    "# Is the median of erruption times equal to 3 minutes 35 seconds\n",
    "# H_0: med = 3.583\n",
    "# H_1: med != 3.583"
   ]
  },
  {
   "cell_type": "code",
   "execution_count": 13,
   "metadata": {},
   "outputs": [],
   "source": [
    "n = len(faithful)"
   ]
  },
  {
   "cell_type": "code",
   "execution_count": 14,
   "metadata": {},
   "outputs": [
    {
     "data": {
      "text/plain": [
       "272"
      ]
     },
     "execution_count": 14,
     "metadata": {},
     "output_type": "execute_result"
    }
   ],
   "source": [
    "n"
   ]
  },
  {
   "cell_type": "code",
   "execution_count": 20,
   "metadata": {},
   "outputs": [
    {
     "data": {
      "text/plain": [
       "<matplotlib.lines.Line2D at 0x7eff55a9ae80>"
      ]
     },
     "execution_count": 20,
     "metadata": {},
     "output_type": "execute_result"
    },
    {
     "data": {
      "image/png": "[encoded data removed]",
      "text/plain": [
       "<Figure size 432x288 with 1 Axes>"
      ]
     },
     "metadata": {
      "needs_background": "light"
     },
     "output_type": "display_data"
    }
   ],
   "source": [
    "# Test statistic is the amount of red points\n",
    "import numpy as np\n",
    "plt.plot(faithful.loc[faithful['eruptions']<=3.583, 'eruptions'], np.ones(faithful.loc[faithful['eruptions']<=3.583, 'eruptions'].shape), 'o', c='b')\n",
    "plt.plot(faithful.loc[faithful['eruptions']>3.583, 'eruptions'], np.ones(faithful.loc[faithful['eruptions']>3.583, 'eruptions'].shape),'o',c='r')\n",
    "plt.axvline(3.583)"
   ]
  },
  {
   "cell_type": "code",
   "execution_count": 21,
   "metadata": {},
   "outputs": [],
   "source": [
    "s = sum(faithful['eruptions']>3.583)"
   ]
  },
  {
   "cell_type": "code",
   "execution_count": 22,
   "metadata": {},
   "outputs": [
    {
     "data": {
      "text/plain": [
       "164"
      ]
     },
     "execution_count": 22,
     "metadata": {},
     "output_type": "execute_result"
    }
   ],
   "source": [
    "s"
   ]
  },
  {
   "cell_type": "code",
   "execution_count": 23,
   "metadata": {},
   "outputs": [],
   "source": [
    "from scipy import stats"
   ]
  },
  {
   "cell_type": "code",
   "execution_count": 26,
   "metadata": {},
   "outputs": [
    {
     "data": {
      "text/plain": [
       "<matplotlib.lines.Line2D at 0x7eff52d6b550>"
      ]
     },
     "execution_count": 26,
     "metadata": {},
     "output_type": "execute_result"
    },
    {
     "data": {
      "image/png": "[encoded data removed]",
      "text/plain": [
       "<Figure size 432x288 with 1 Axes>"
      ]
     },
     "metadata": {
      "needs_background": "light"
     },
     "output_type": "display_data"
    }
   ],
   "source": [
    "# If H_0 is true we expect around n/2=136 obs to be larger than 3.583\n",
    "x = np.arange(n/2-50, n/2+50)\n",
    "plt.plot(x, stats.binom.pmf(x, n, 0.5))\n",
    "plt.axhline(0)\n",
    "plt.axvline(0.5*n)\n",
    "# The corresponding observed amount is 164\n",
    "# p-value is the probability of values outside the green lines\n",
    "plt.axvline(n*0.5+abs(s-0.5*n), c='g') # this what we observe\n",
    "plt.axvline(n*0.5-abs(s-0.5*n), c='g')"
   ]
  },
  {
   "cell_type": "code",
   "execution_count": 31,
   "metadata": {},
   "outputs": [],
   "source": [
    "# Exact binomial test significance value 0.5\n",
    "p_value = stats.binom_test(s, n)"
   ]
  },
  {
   "cell_type": "code",
   "execution_count": 32,
   "metadata": {},
   "outputs": [
    {
     "data": {
      "text/plain": [
       "0.0008217570096469431"
      ]
     },
     "execution_count": 32,
     "metadata": {},
     "output_type": "execute_result"
    }
   ],
   "source": [
    "p_value"
   ]
  },
  {
   "cell_type": "code",
   "execution_count": 33,
   "metadata": {},
   "outputs": [],
   "source": [
    "# p-value very small we can reject H_0"
   ]
  },
  {
   "cell_type": "code",
   "execution_count": 34,
   "metadata": {},
   "outputs": [],
   "source": [
    "# The same with normal approximation\n",
    "z = (s - n/2)/np.sqrt(n/4)"
   ]
  },
  {
   "cell_type": "code",
   "execution_count": 41,
   "metadata": {},
   "outputs": [
    {
     "data": {
      "text/plain": [
       "3.395498750508662"
      ]
     },
     "execution_count": 41,
     "metadata": {},
     "output_type": "execute_result"
    }
   ],
   "source": [
    "z"
   ]
  },
  {
   "cell_type": "code",
   "execution_count": 40,
   "metadata": {},
   "outputs": [
    {
     "data": {
      "text/plain": [
       "<matplotlib.lines.Line2D at 0x7eff54371ca0>"
      ]
     },
     "execution_count": 40,
     "metadata": {},
     "output_type": "execute_result"
    },
    {
     "data": {
      "image/png": "[encoded data removed]",
      "text/plain": [
       "<Figure size 432x288 with 1 Axes>"
      ]
     },
     "metadata": {
      "needs_background": "light"
     },
     "output_type": "display_data"
    }
   ],
   "source": [
    "plt.plot(np.linspace(-5,5), stats.norm.pdf(np.linspace(-5,5)))\n",
    "plt.axvline(0)\n",
    "# pvalue is a probability of values outside green area\n",
    "plt.axvline(-abs(z), c='g')\n",
    "plt.axvline(abs(z), c='g')"
   ]
  },
  {
   "cell_type": "code",
   "execution_count": 50,
   "metadata": {},
   "outputs": [
    {
     "data": {
      "text/plain": [
       "0.0006850368653792405"
      ]
     },
     "execution_count": 50,
     "metadata": {},
     "output_type": "execute_result"
    }
   ],
   "source": [
    "2* (1 - stats.norm.cdf(abs(z)))"
   ]
  },
  {
   "cell_type": "markdown",
   "metadata": {},
   "source": [
    "### One-sample sign test vs one-sample t-test"
   ]
  },
  {
   "cell_type": "code",
   "execution_count": 51,
   "metadata": {},
   "outputs": [
    {
     "data": {
      "text/plain": [
       "Ttest_1sampResult(statistic=-1.3758516667415672, pvalue=0.17000355469840356)"
      ]
     },
     "execution_count": 51,
     "metadata": {},
     "output_type": "execute_result"
    }
   ],
   "source": [
    "# t-test for the same data on significance leve 5%\n",
    "stats.ttest_1samp(faithful['eruptions'], 3.583)"
   ]
  },
  {
   "cell_type": "code",
   "execution_count": 52,
   "metadata": {},
   "outputs": [
    {
     "data": {
      "text/plain": [
       "(array([ 4., 32., 22., 10., 13., 10.,  1.,  2.,  1.,  2.,  1.,  0.,  5.,\n",
       "         3.,  7., 11., 10., 20., 19., 21., 27., 19., 19.,  9.,  4.]),\n",
       " array([1.6 , 1.74, 1.88, 2.02, 2.16, 2.3 , 2.44, 2.58, 2.72, 2.86, 3.  ,\n",
       "        3.14, 3.28, 3.42, 3.56, 3.7 , 3.84, 3.98, 4.12, 4.26, 4.4 , 4.54,\n",
       "        4.68, 4.82, 4.96, 5.1 ]),\n",
       " <a list of 25 Patch objects>)"
      ]
     },
     "execution_count": 52,
     "metadata": {},
     "output_type": "execute_result"
    },
    {
     "data": {
      "image/png": "[encoded data removed]",
      "text/plain": [
       "<Figure size 432x288 with 1 Axes>"
      ]
     },
     "metadata": {
      "needs_background": "light"
     },
     "output_type": "display_data"
    }
   ],
   "source": [
    "# Why do conclusions differ even though both tests test whether th location is 3.583\n",
    "plt.hist(faithful['eruptions'], 25)"
   ]
  },
  {
   "cell_type": "markdown",
   "metadata": {},
   "source": [
    "### Power comparison\n",
    "\n",
    "We have a sample of size 20 from N(mu, 1) - distribution\n",
    "\n",
    "\n",
    "H_0: mu = 0\n",
    "\n",
    "H_1: mu != 0\n",
    "\n",
    "Tests: one-sample t-test vs one-sample sign test on significance level 5%"
   ]
  },
  {
   "cell_type": "markdown",
   "metadata": {},
   "source": [
    "#### Type 1 error rates\n",
    "\n",
    "We generate a sample where H_0 is true and see whether the test \"sees\" this"
   ]
  },
  {
   "cell_type": "code",
   "execution_count": 53,
   "metadata": {},
   "outputs": [],
   "source": [
    "x = np.random.normal(0, 1, 20)"
   ]
  },
  {
   "cell_type": "code",
   "execution_count": 54,
   "metadata": {},
   "outputs": [],
   "source": [
    "# The null distribution of the test statistic with the critical points\n",
    "def t_density(x):\n",
    "    return stats.t.pdf(x, 19)"
   ]
  },
  {
   "cell_type": "code",
   "execution_count": 60,
   "metadata": {},
   "outputs": [
    {
     "data": {
      "text/plain": [
       "-1.1999527627061009"
      ]
     },
     "execution_count": 60,
     "metadata": {},
     "output_type": "execute_result"
    }
   ],
   "source": [
    "stats.ttest_1samp(x, 0)[0]"
   ]
  },
  {
   "cell_type": "code",
   "execution_count": 61,
   "metadata": {},
   "outputs": [],
   "source": [
    "t_obs = stats.ttest_1samp(x, 0)[0]"
   ]
  },
  {
   "cell_type": "code",
   "execution_count": 66,
   "metadata": {},
   "outputs": [
    {
     "data": {
      "image/png": "[encoded data removed]",
      "text/plain": [
       "<Figure size 432x288 with 1 Axes>"
      ]
     },
     "metadata": {
      "needs_background": "light"
     },
     "output_type": "display_data"
    }
   ],
   "source": [
    "plt.plot(np.linspace(-5, 5), t_density(np.linspace(-5,5)))\n",
    "plt.axvline(stats.t.ppf(0.025, 19), c='r')\n",
    "plt.axvline(stats.t.ppf(0.975, 19), c='r')\n",
    "plt.axvline(t_obs, c='black')\n",
    "for i in range(20):\n",
    "    plt.axvline(stats.ttest_1samp(np.random.normal(0,1,20), 0)[0], c='black', linestyle='--')"
   ]
  },
  {
   "cell_type": "code",
   "execution_count": 71,
   "metadata": {},
   "outputs": [
    {
     "data": {
      "text/plain": [
       "0.0486"
      ]
     },
     "execution_count": 71,
     "metadata": {},
     "output_type": "execute_result"
    }
   ],
   "source": [
    "# Simulated probabilities \n",
    "\n",
    "(np.array([stats.ttest_1samp(np.random.normal(0,1,20), 0)[1] for i in range(10000)])<0.05).mean()"
   ]
  },
  {
   "cell_type": "code",
   "execution_count": 73,
   "metadata": {},
   "outputs": [
    {
     "data": {
      "text/plain": [
       "0.0362"
      ]
     },
     "execution_count": 73,
     "metadata": {},
     "output_type": "execute_result"
    }
   ],
   "source": [
    "(np.array([stats.binom_test(sum(np.random.normal(0,1,20)>0), 20) for i in range(10000)])<0.05).mean()"
   ]
  },
  {
   "cell_type": "markdown",
   "metadata": {},
   "source": [
    "#### Type II error when the true value is actually mu = 1"
   ]
  },
  {
   "cell_type": "code",
   "execution_count": 76,
   "metadata": {},
   "outputs": [],
   "source": [
    "# The null distribution\n",
    "# observed value\n",
    "x = np.random.normal(1,1,20)\n",
    "t_obs = stats.ttest_1samp(x, 0)[0]"
   ]
  },
  {
   "cell_type": "code",
   "execution_count": 78,
   "metadata": {},
   "outputs": [
    {
     "data": {
      "image/png": "[encoded data removed]",
      "text/plain": [
       "<Figure size 432x288 with 1 Axes>"
      ]
     },
     "metadata": {
      "needs_background": "light"
     },
     "output_type": "display_data"
    }
   ],
   "source": [
    "plt.plot(np.linspace(-4, 6), t_density(np.linspace(-4,6)))\n",
    "plt.axvline(stats.t.ppf(0.025, 19), c='r')\n",
    "plt.axvline(stats.t.ppf(0.975, 19), c='r')\n",
    "plt.axvline(t_obs, c='black')\n",
    "for i in range(20):\n",
    "    plt.axvline(stats.ttest_1samp(np.random.normal(1,1,20), 0)[0], c='black', linestyle='--')"
   ]
  },
  {
   "cell_type": "code",
   "execution_count": 80,
   "metadata": {},
   "outputs": [
    {
     "data": {
      "text/plain": [
       "0.0104"
      ]
     },
     "execution_count": 80,
     "metadata": {},
     "output_type": "execute_result"
    }
   ],
   "source": [
    "(np.array([stats.ttest_1samp(np.random.normal(1,1,20), 0)[1] for i in range(10000)])>=0.05).mean()"
   ]
  },
  {
   "cell_type": "code",
   "execution_count": 82,
   "metadata": {},
   "outputs": [
    {
     "data": {
      "text/plain": [
       "0.0835"
      ]
     },
     "execution_count": 82,
     "metadata": {},
     "output_type": "execute_result"
    }
   ],
   "source": [
    "(np.array([stats.binom_test(sum(np.random.normal(1,1,20)>0), 20) for i in range(10000)])>=0.05).mean()"
   ]
  },
  {
   "cell_type": "markdown",
   "metadata": {},
   "source": [
    "Sign test has larger type 2 error rate for normally distributed data"
   ]
  },
  {
   "cell_type": "code",
   "execution_count": null,
   "metadata": {},
   "outputs": [],
   "source": []
  }
 ],
 "metadata": {
  "kernelspec": {
   "display_name": "Python 3",
   "language": "python",
   "name": "python3"
  },
  "language_info": {
   "codemirror_mode": {
    "name": "ipython",
    "version": 3
   },
   "file_extension": ".py",
   "mimetype": "text/x-python",
   "name": "python",
   "nbconvert_exporter": "python",
   "pygments_lexer": "ipython3",
   "version": "3.8.3"
  }
 },
 "nbformat": 4,
 "nbformat_minor": 4
}
