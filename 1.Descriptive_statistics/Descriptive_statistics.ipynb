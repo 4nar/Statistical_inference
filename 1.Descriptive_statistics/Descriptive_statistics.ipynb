{
 "cells": [
  {
   "cell_type": "markdown",
   "metadata": {},
   "source": [
    "## Measures of location\n",
    "\n",
    "Measures of location describe where the center of data lies. They are used to summarize typical behavior in a data set. \n",
    "\n",
    "They can be either robust to outliers or not.\n",
    "\n",
    "### Means\n",
    "\n",
    "Let x be random variable with $x_1, x_2, ..., x_n$ independent and identically distributed (i.i.d) observations.\n",
    "* The sample mean: \n",
    "$$\\hat{x} = \\frac{1}{n}\\sum_{i=1}^n{x_i}$$\n",
    "The sample mean estimates the expected value $\\mu=E(x)$ of the random variable x.\n",
    "* The $\\alpha$-trimmed mean is robust to outliers, and it is a sample mean after removing $\\alpha$ fraction of both smallest and largest observations\n",
    "* Weighted mean give variable weights for different observations,\n",
    "$$\\sum_{i=1}^n{w_ix_i}$$\n",
    "\n",
    "where $\\sum_{i=1}^n{w_i} = 1$"
   ]
  },
  {
   "cell_type": "markdown",
   "metadata": {},
   "source": [
    "### Median\n",
    "\n",
    "Let y_1<y_2..<y_n be ordered observations \n",
    "\n",
    "* The sample median is a middle value of ordered observations, and it is robust to outliers\n",
    "* If there are even number of observations then median is an average of two middle observations\n",
    "* Sample median approximates population median $m_x$, the value with following property\n",
    "\n",
    "    $$P(x<m_x)\\leq\\frac{1}{2}, P(x\\leq m_x)\\geq\\frac{1}{2}$$"
   ]
  },
  {
   "cell_type": "markdown",
   "metadata": {},
   "source": [
    "### Quantiles\n",
    "\n",
    "* The sample $\\beta$-quantile, $0<\\beta<1$, is an observation $y_k$, where $k=\\lceil n\\beta \\rceil$ and n is a number of observations\n",
    "* Sample $\\beta$-quantile estimates population $\\beta$-quantile $\\beta_x$ with property $$P(x<\\beta_x) \\leq \\beta, P(x \\leq \\beta_x) \\geq \\beta$$\n",
    "* 0.25 and 0.75-quantiles are called first and third quartiles\n",
    "* mid-hinge is their average and it is robust to outliers: $$\\frac{y_{\\lceil 0.25 n \\rceil} + y_{\\lceil 0.75 n \\rceil}}{2}$$ "
   ]
  },
  {
   "cell_type": "markdown",
   "metadata": {},
   "source": [
    "### Mode\n",
    "\n",
    "Mode is a value that has highest frequency in the sample. It estimates value of qualitative or discrete quantitative variable that has highest probability. Mostly used with categorical variables"
   ]
  },
  {
   "cell_type": "markdown",
   "metadata": {},
   "source": [
    "## Measures of scatter\n",
    "\n",
    "Measures of scatter describes how far away from the center the data lies. They are used to summarize the spread of the data set.\n",
    "\n",
    "\n",
    "### Variance\n",
    "\n",
    "* The sample variance: $$s^2 = \\frac{1}{1-n}\\sum_{i=1}^n{(x_i - \\hat{x})^2}$$\n",
    "* The sample variance estimates population variance $\\sigma^2 = E[(x - \\mu)^2]$\n",
    "* The sample standard deviation: $$s = \\sqrt{s^2}$$ is often preferred over sample variance because it is measured in the same units as data."
   ]
  },
  {
   "cell_type": "markdown",
   "metadata": {},
   "source": [
    "### Median absolute deviation\n",
    "\n",
    "* The median absolute deviation, MAD, is robust and it is a median of the sample $|x_1-m_x|, |x_2-m_x|...|x_n-m_x|$\n",
    "* It can be multiplied by the constant 1.4826 to make it consistent estimator of the standard deviation in a normal model."
   ]
  },
  {
   "cell_type": "markdown",
   "metadata": {},
   "source": [
    "### Range\n",
    "\n",
    "The sample range is an interval $[x_{min}, x_{max}]$ and its length is: $$x_{max}-x_{min}$$\n",
    "\n",
    "### Interquartile range\n",
    "\n",
    "Interquartile range is robust, and it's a difference between third and first quartile: $$y_{\\lceil 0.75 n \\rceil} - y_{\\lceil 0.25 n \\rceil}$$ \n",
    "It can be multiplied by a constant 0.7413 to make it a consistent estimator of a standard deviation in a normal model"
   ]
  },
  {
   "cell_type": "markdown",
   "metadata": {},
   "source": [
    "## Measures of skewness and kurtosis\n",
    "\n",
    "Skewness describe deviation of the data from symmetry\n",
    "Kurtosis describes heaviness of the data tails\n",
    "\n",
    "\n",
    "### Skewness\n",
    "\n",
    "The sample skewness is $$\\hat{\\gamma} = \\frac{m_3}{s^3}$$, where $$m_3 = \\frac{1}{n}\\sum_{i=1}^n(x_i-\\hat{m})^3$$\n",
    "\n",
    "Sample skewness coefficient estimates population skewness $$\\gamma=E[(\\frac{x - \\mu}{\\sigma})^3]$$"
   ]
  },
  {
   "cell_type": "code",
   "execution_count": 1,
   "metadata": {},
   "outputs": [],
   "source": [
    "import matplotlib.pyplot as plt\n",
    "import seaborn as sns\n",
    "%matplotlib inline\n",
    "from scipy.stats import norm, chi2\n",
    "\n",
    "\n",
    "sample_norm = norm.rvs(loc=5, scale=1, size=1000)\n",
    "sample_chi_squared = chi2.rvs(df=3, size=1000)"
   ]
  },
  {
   "cell_type": "code",
   "execution_count": 22,
   "metadata": {},
   "outputs": [
    {
     "data": {
      "text/plain": [
       "<matplotlib.legend.Legend at 0x7f7ec2bfe1f0>"
      ]
     },
     "execution_count": 22,
     "metadata": {},
     "output_type": "execute_result"
    },
    {
     "data": {
      "image/png": "[encoded data removed]",
      "text/plain": [
       "<Figure size 432x288 with 1 Axes>"
      ]
     },
     "metadata": {
      "needs_background": "light"
     },
     "output_type": "display_data"
    }
   ],
   "source": [
    "plt.title('A symmetric and a skewed distribution')\n",
    "sns.distplot(sample_norm, label='N(5,1)')\n",
    "sns.distplot(sample_chi_squared, label='chi_squared(3)')\n",
    "plt.legend()"
   ]
  },
  {
   "cell_type": "markdown",
   "metadata": {},
   "source": [
    "### Interpretation of skewness\n",
    "\n",
    "* If the skewness coefficient $\\hat{\\gamma}>0$, then distribution is skewed to the right (positively skewed). I.e. the distribution has long right tail and the mass of distribution is concentrated on the left.\n",
    "* If the skewness coefficient $\\hat{\\gamma}<0$, then distribution is skewed to the left (negatively skewed). I.e. the distribution has long left tail and the mass of distribution is concentrated on the right."
   ]
  },
  {
   "cell_type": "markdown",
   "metadata": {},
   "source": [
    "### Median skewness\n",
    "\n",
    "The median skewness $$v_2 = \\frac{3(\\hat{x} - m_x)}{3}$$\n",
    "\n",
    "The underlying reasoning is that for symmetrical distributions sample mean and sample estimate the same population value.\n",
    "\n",
    "The mean and the median in median skewness can be replaced with any two measures of location to obtain different measures of skewness."
   ]
  },
  {
   "cell_type": "markdown",
   "metadata": {},
   "source": [
    "### Kurtosis\n",
    "\n",
    "The sample kurtosis coefficient is $$hat{k} = \\frac{m_4}{s^4} - 3$$ where $$m_4 = \\frac{1}{n}\\sum_{i=1}^n{(x_i - \\hat{x})^4}$$\n",
    "\n",
    "The sample kurtosis coefficient estimates population kurtosis $$k = E[(\\frac{x - \\mu}{\\sigma})^4]-3$$"
   ]
  },
  {
   "cell_type": "markdown",
   "metadata": {},
   "source": [
    "### Interpretation of kurtosis\n",
    "\n",
    "* A random variable with normal distribution has kurtosis value of 0\n",
    "* If kurtosis $k>0$, then the distribution has heavier tails than normal.\n",
    "* If kurtosis $k<0$, then the distribution has lighter tails than normal."
   ]
  },
  {
   "cell_type": "markdown",
   "metadata": {},
   "source": [
    "### Zero kurtosis\n",
    "\n",
    "Two normal distributions with different parameters will have the same kurtosis"
   ]
  },
  {
   "cell_type": "code",
   "execution_count": 2,
   "metadata": {},
   "outputs": [
    {
     "data": {
      "text/plain": [
       "<matplotlib.legend.Legend at 0x7f4c7f3c2d00>"
      ]
     },
     "execution_count": 2,
     "metadata": {},
     "output_type": "execute_result"
    },
    {
     "data": {
      "image/png": "[encoded data removed]",
      "text/plain": [
       "<Figure size 432x288 with 1 Axes>"
      ]
     },
     "metadata": {
      "needs_background": "light"
     },
     "output_type": "display_data"
    }
   ],
   "source": [
    "norm1 = norm.rvs(loc=5,scale=1,size=1000)\n",
    "norm2 = norm.rvs(loc=5,scale=0.5,size=1000)\n",
    "plt.title('Two normal distributions')\n",
    "sns.distplot(norm1, label='N(5,1)')\n",
    "sns.distplot(norm2, label='N(5,0.5)')\n",
    "plt.legend()"
   ]
  },
  {
   "cell_type": "code",
   "execution_count": 3,
   "metadata": {},
   "outputs": [],
   "source": [
    "from scipy.stats import kurtosis"
   ]
  },
  {
   "cell_type": "code",
   "execution_count": 4,
   "metadata": {},
   "outputs": [
    {
     "data": {
      "text/plain": [
       "(0.05851972514415715, -0.03732798046541275)"
      ]
     },
     "execution_count": 4,
     "metadata": {},
     "output_type": "execute_result"
    }
   ],
   "source": [
    "kurtosis(norm1), kurtosis(norm2)"
   ]
  },
  {
   "cell_type": "markdown",
   "metadata": {},
   "source": [
    "## Small and large kurtosis"
   ]
  },
  {
   "cell_type": "code",
   "execution_count": 5,
   "metadata": {},
   "outputs": [],
   "source": [
    "from scipy.stats import laplace, semicircular"
   ]
  },
  {
   "cell_type": "code",
   "execution_count": 9,
   "metadata": {},
   "outputs": [],
   "source": [
    "laplace_sample = laplace.rvs(loc=0, scale=3, size=1000)\n",
    "wigner_sample = semicircular.rvs(scale=4, size=1000)"
   ]
  },
  {
   "cell_type": "code",
   "execution_count": 10,
   "metadata": {},
   "outputs": [
    {
     "data": {
      "text/plain": [
       "<matplotlib.legend.Legend at 0x7f4c7d43bd60>"
      ]
     },
     "execution_count": 10,
     "metadata": {},
     "output_type": "execute_result"
    },
    {
     "data": {
      "image/png": "[encoded data removed]",
      "text/plain": [
       "<Figure size 432x288 with 1 Axes>"
      ]
     },
     "metadata": {
      "needs_background": "light"
     },
     "output_type": "display_data"
    }
   ],
   "source": [
    "plt.title('Wide and sharp distribution')\n",
    "sns.distplot(laplace_sample, label='Laplace, b=3, loc=0')\n",
    "sns.distplot(wigner_sample, label='Wigner R=4')\n",
    "plt.legend()"
   ]
  },
  {
   "cell_type": "code",
   "execution_count": 11,
   "metadata": {},
   "outputs": [
    {
     "data": {
      "text/plain": [
       "2.438168467461135"
      ]
     },
     "execution_count": 11,
     "metadata": {},
     "output_type": "execute_result"
    }
   ],
   "source": [
    "kurtosis(laplace_sample)"
   ]
  },
  {
   "cell_type": "code",
   "execution_count": 12,
   "metadata": {},
   "outputs": [
    {
     "data": {
      "text/plain": [
       "-0.9912076142890571"
      ]
     },
     "execution_count": 12,
     "metadata": {},
     "output_type": "execute_result"
    }
   ],
   "source": [
    "kurtosis(wigner_sample)"
   ]
  },
  {
   "cell_type": "markdown",
   "metadata": {},
   "source": [
    "## Descriptive statistics for multivariate data"
   ]
  },
  {
   "cell_type": "markdown",
   "metadata": {},
   "source": [
    "### Correlation\n",
    "\n",
    "Let $(x_1,y_1), (x_2, y_2),...,(x_n, y_n)$ be i.i.d observations of a bivariate random variable (x,y)\n",
    "\n",
    "The sample covariance $$s_{xy} = \\frac{1}{n-1}\\sum_{i=1}^n{(x_i-\\hat{x})(y_i-\\hat{y})}$$\n",
    "\n",
    "Estimates population covariance $\\sigma_{xy} = E[(x - E[x])(y - E[y])]$\n",
    "\n",
    "The sample correlation $$\\hat{\\rho}(x,y) = \\frac{s_{xy}}{s_x s_y} = \\frac{\\sum_{i=1}^n(x_i-\\hat{x})(y_i-\\hat{y})}{\\sqrt{\\sum_{i=1}^n{(x_i-\\hat{x})^2}\\sum_{i=1}^n{(y_i-\\hat{y})^2}}}$$\n",
    "estimates population correlation $\\rho(x,y) = \\frac{\\sigma_{xy}}{\\sigma_x \\sigma_y}$\n",
    "\n",
    "The correlation coefficient measures the linear dependence between two random variables. The coefficient is always in an interval [-1, 1]  "
   ]
  },
  {
   "cell_type": "markdown",
   "metadata": {},
   "source": [
    "## Descriptive statistics and robustness\n"
   ]
  },
  {
   "cell_type": "code",
   "execution_count": 15,
   "metadata": {},
   "outputs": [],
   "source": [
    "from sklearn.datasets import load_iris\n",
    "import pandas as pd\n",
    "\n",
    "iris = load_iris()\n",
    "df_iris = pd.DataFrame(iris['data'], columns=iris['feature_names'])"
   ]
  },
  {
   "cell_type": "code",
   "execution_count": 16,
   "metadata": {},
   "outputs": [
    {
     "data": {
      "text/html": [
       "<div>\n",
       "<style scoped>\n",
       "    .dataframe tbody tr th:only-of-type {\n",
       "        vertical-align: middle;\n",
       "    }\n",
       "\n",
       "    .dataframe tbody tr th {\n",
       "        vertical-align: top;\n",
       "    }\n",
       "\n",
       "    .dataframe thead th {\n",
       "        text-align: right;\n",
       "    }\n",
       "</style>\n",
       "<table border=\"1\" class=\"dataframe\">\n",
       "  <thead>\n",
       "    <tr style=\"text-align: right;\">\n",
       "      <th></th>\n",
       "      <th>sepal length (cm)</th>\n",
       "      <th>sepal width (cm)</th>\n",
       "      <th>petal length (cm)</th>\n",
       "      <th>petal width (cm)</th>\n",
       "    </tr>\n",
       "  </thead>\n",
       "  <tbody>\n",
       "    <tr>\n",
       "      <th>0</th>\n",
       "      <td>5.1</td>\n",
       "      <td>3.5</td>\n",
       "      <td>1.4</td>\n",
       "      <td>0.2</td>\n",
       "    </tr>\n",
       "    <tr>\n",
       "      <th>1</th>\n",
       "      <td>4.9</td>\n",
       "      <td>3.0</td>\n",
       "      <td>1.4</td>\n",
       "      <td>0.2</td>\n",
       "    </tr>\n",
       "    <tr>\n",
       "      <th>2</th>\n",
       "      <td>4.7</td>\n",
       "      <td>3.2</td>\n",
       "      <td>1.3</td>\n",
       "      <td>0.2</td>\n",
       "    </tr>\n",
       "    <tr>\n",
       "      <th>3</th>\n",
       "      <td>4.6</td>\n",
       "      <td>3.1</td>\n",
       "      <td>1.5</td>\n",
       "      <td>0.2</td>\n",
       "    </tr>\n",
       "    <tr>\n",
       "      <th>4</th>\n",
       "      <td>5.0</td>\n",
       "      <td>3.6</td>\n",
       "      <td>1.4</td>\n",
       "      <td>0.2</td>\n",
       "    </tr>\n",
       "  </tbody>\n",
       "</table>\n",
       "</div>"
      ],
      "text/plain": [
       "   sepal length (cm)  sepal width (cm)  petal length (cm)  petal width (cm)\n",
       "0                5.1               3.5                1.4               0.2\n",
       "1                4.9               3.0                1.4               0.2\n",
       "2                4.7               3.2                1.3               0.2\n",
       "3                4.6               3.1                1.5               0.2\n",
       "4                5.0               3.6                1.4               0.2"
      ]
     },
     "execution_count": 16,
     "metadata": {},
     "output_type": "execute_result"
    }
   ],
   "source": [
    "df_iris.head()"
   ]
  },
  {
   "cell_type": "code",
   "execution_count": 17,
   "metadata": {},
   "outputs": [],
   "source": [
    "x = df_iris['sepal width (cm)'].values"
   ]
  },
  {
   "cell_type": "code",
   "execution_count": 39,
   "metadata": {},
   "outputs": [
    {
     "data": {
      "text/plain": [
       "(array([ 4.,  7., 22., 24., 37., 31., 10., 11.,  2.,  2.]),\n",
       " array([2.  , 2.24, 2.48, 2.72, 2.96, 3.2 , 3.44, 3.68, 3.92, 4.16, 4.4 ]),\n",
       " <a list of 10 Patch objects>)"
      ]
     },
     "execution_count": 39,
     "metadata": {},
     "output_type": "execute_result"
    },
    {
     "data": {
      "image/png": "[encoded data removed]",
      "text/plain": [
       "<Figure size 432x288 with 1 Axes>"
      ]
     },
     "metadata": {
      "needs_background": "light"
     },
     "output_type": "display_data"
    }
   ],
   "source": [
    "plt.hist(x)"
   ]
  },
  {
   "cell_type": "code",
   "execution_count": 19,
   "metadata": {},
   "outputs": [],
   "source": [
    "import numpy as np"
   ]
  },
  {
   "cell_type": "code",
   "execution_count": 26,
   "metadata": {},
   "outputs": [],
   "source": [
    "y = np.append(x[:149], [100])"
   ]
  },
  {
   "cell_type": "code",
   "execution_count": 37,
   "metadata": {},
   "outputs": [
    {
     "data": {
      "text/plain": [
       "(array([149.,   0.,   0.,   0.,   0.,   0.,   0.,   0.,   0.,   1.]),\n",
       " array([  2. ,  11.8,  21.6,  31.4,  41.2,  51. ,  60.8,  70.6,  80.4,\n",
       "         90.2, 100. ]),\n",
       " <a list of 10 Patch objects>)"
      ]
     },
     "execution_count": 37,
     "metadata": {},
     "output_type": "execute_result"
    },
    {
     "data": {
      "image/png": "[encoded data removed]",
      "text/plain": [
       "<Figure size 432x288 with 1 Axes>"
      ]
     },
     "metadata": {
      "needs_background": "light"
     },
     "output_type": "display_data"
    }
   ],
   "source": [
    "plt.hist(y)"
   ]
  },
  {
   "cell_type": "code",
   "execution_count": 29,
   "metadata": {},
   "outputs": [
    {
     "data": {
      "text/plain": [
       "array([111.57742316, 114.48684817,  89.29372307, 108.95829205,\n",
       "       113.14394017])"
      ]
     },
     "execution_count": 29,
     "metadata": {},
     "output_type": "execute_result"
    }
   ],
   "source": [
    "np.random.normal(100, 10, 5)"
   ]
  },
  {
   "cell_type": "code",
   "execution_count": 30,
   "metadata": {},
   "outputs": [],
   "source": [
    "z = np.append(x[:-5], np.random.normal(100, 10, 5))"
   ]
  },
  {
   "cell_type": "code",
   "execution_count": 31,
   "metadata": {},
   "outputs": [
    {
     "data": {
      "text/plain": [
       "(150,)"
      ]
     },
     "execution_count": 31,
     "metadata": {},
     "output_type": "execute_result"
    }
   ],
   "source": [
    "z.shape"
   ]
  },
  {
   "cell_type": "code",
   "execution_count": 32,
   "metadata": {},
   "outputs": [
    {
     "data": {
      "text/plain": [
       "(150,)"
      ]
     },
     "execution_count": 32,
     "metadata": {},
     "output_type": "execute_result"
    }
   ],
   "source": [
    "y.shape"
   ]
  },
  {
   "cell_type": "code",
   "execution_count": 35,
   "metadata": {},
   "outputs": [
    {
     "data": {
      "text/plain": [
       "(array([145.,   0.,   0.,   0.,   0.,   0.,   0.,   1.,   3.,   1.]),\n",
       " array([  2.        ,  14.15031444,  26.30062889,  38.45094333,\n",
       "         50.60125778,  62.75157222,  74.90188667,  87.05220111,\n",
       "         99.20251555, 111.35283   , 123.50314444]),\n",
       " <a list of 10 Patch objects>)"
      ]
     },
     "execution_count": 35,
     "metadata": {},
     "output_type": "execute_result"
    },
    {
     "data": {
      "image/png": "[encoded data removed]",
      "text/plain": [
       "<Figure size 432x288 with 1 Axes>"
      ]
     },
     "metadata": {
      "needs_background": "light"
     },
     "output_type": "display_data"
    }
   ],
   "source": [
    "plt.hist(z)"
   ]
  },
  {
   "cell_type": "markdown",
   "metadata": {},
   "source": [
    "### Location"
   ]
  },
  {
   "cell_type": "code",
   "execution_count": 41,
   "metadata": {},
   "outputs": [
    {
     "data": {
      "text/plain": [
       "(3.0573333333333337, 3.704, 6.518642208557261)"
      ]
     },
     "execution_count": 41,
     "metadata": {},
     "output_type": "execute_result"
    }
   ],
   "source": [
    "np.mean(x), np.mean(y), np.mean(z)"
   ]
  },
  {
   "cell_type": "code",
   "execution_count": 42,
   "metadata": {},
   "outputs": [
    {
     "data": {
      "text/plain": [
       "(3.0399999999999996, 3.0444444444444443, 3.0611111111111104)"
      ]
     },
     "execution_count": 42,
     "metadata": {},
     "output_type": "execute_result"
    }
   ],
   "source": [
    "from scipy.stats import trim_mean\n",
    "\n",
    "trim_mean(x, 0.2), trim_mean(y, 0.2), trim_mean(z, 0.2)"
   ]
  },
  {
   "cell_type": "code",
   "execution_count": 43,
   "metadata": {},
   "outputs": [
    {
     "data": {
      "text/plain": [
       "(3.0, 3.0, 3.0)"
      ]
     },
     "execution_count": 43,
     "metadata": {},
     "output_type": "execute_result"
    }
   ],
   "source": [
    "np.median(x), np.median(y),  np.median(z)"
   ]
  },
  {
   "cell_type": "code",
   "execution_count": 48,
   "metadata": {},
   "outputs": [],
   "source": [
    "def mid_hinge(x):\n",
    "    return (np.quantile(x, 0.25)+np.quantile(x, 0.75))/2"
   ]
  },
  {
   "cell_type": "code",
   "execution_count": 49,
   "metadata": {},
   "outputs": [
    {
     "data": {
      "text/plain": [
       "(3.05, 3.0875, 3.0999999999999996)"
      ]
     },
     "execution_count": 49,
     "metadata": {},
     "output_type": "execute_result"
    }
   ],
   "source": [
    "mid_hinge(x), mid_hinge(y), mid_hinge(z)"
   ]
  },
  {
   "cell_type": "markdown",
   "metadata": {},
   "source": [
    "### Scatter"
   ]
  },
  {
   "cell_type": "code",
   "execution_count": 50,
   "metadata": {},
   "outputs": [
    {
     "data": {
      "text/plain": [
       "(0.4344109677354946, 7.900825948384553, 18.71408979793975)"
      ]
     },
     "execution_count": 50,
     "metadata": {},
     "output_type": "execute_result"
    }
   ],
   "source": [
    "np.std(x), np.std(y), np.std(z)"
   ]
  },
  {
   "cell_type": "code",
   "execution_count": 54,
   "metadata": {},
   "outputs": [],
   "source": [
    "from scipy.stats import median_abs_deviation as mad"
   ]
  },
  {
   "cell_type": "code",
   "execution_count": 55,
   "metadata": {},
   "outputs": [
    {
     "data": {
      "text/plain": [
       "(0.2999999999999998, 0.2999999999999998, 0.2999999999999998)"
      ]
     },
     "execution_count": 55,
     "metadata": {},
     "output_type": "execute_result"
    }
   ],
   "source": [
    "mad(x), mad(y), mad(z)"
   ]
  },
  {
   "cell_type": "code",
   "execution_count": 56,
   "metadata": {},
   "outputs": [],
   "source": [
    "def range_(x):\n",
    "    return np.max(x) - np.min(x)"
   ]
  },
  {
   "cell_type": "code",
   "execution_count": 57,
   "metadata": {},
   "outputs": [
    {
     "data": {
      "text/plain": [
       "(2.4000000000000004, 98.0, 121.50314444199313)"
      ]
     },
     "execution_count": 57,
     "metadata": {},
     "output_type": "execute_result"
    }
   ],
   "source": [
    "range_(x), range_(y), range_(z)"
   ]
  },
  {
   "cell_type": "code",
   "execution_count": 58,
   "metadata": {},
   "outputs": [
    {
     "data": {
      "text/plain": [
       "(0.5, 0.5750000000000002, 0.6000000000000001)"
      ]
     },
     "execution_count": 58,
     "metadata": {},
     "output_type": "execute_result"
    }
   ],
   "source": [
    "from scipy.stats import iqr\n",
    "\n",
    "iqr(x), iqr(y), iqr(z)"
   ]
  },
  {
   "cell_type": "code",
   "execution_count": 59,
   "metadata": {},
   "outputs": [
    {
     "data": {
      "text/plain": [
       "(0.31576710633893473, 12.06900920344008, 5.271373108094736)"
      ]
     },
     "execution_count": 59,
     "metadata": {},
     "output_type": "execute_result"
    }
   ],
   "source": [
    "from scipy.stats import skew\n",
    "skew(x), skew(y), skew(z)"
   ]
  },
  {
   "cell_type": "code",
   "execution_count": 60,
   "metadata": {},
   "outputs": [],
   "source": [
    "def median_skew(x):\n",
    "    return (np.mean(x) - np.median(x))/np.std(x)"
   ]
  },
  {
   "cell_type": "code",
   "execution_count": 61,
   "metadata": {},
   "outputs": [
    {
     "data": {
      "text/plain": [
       "(0.13197947932162468, 0.0891046081256788, 0.1880210176689775)"
      ]
     },
     "execution_count": 61,
     "metadata": {},
     "output_type": "execute_result"
    }
   ],
   "source": [
    "median_skew(x), median_skew(y), median_skew(z)"
   ]
  },
  {
   "cell_type": "markdown",
   "metadata": {},
   "source": [
    "### Kurtosis"
   ]
  },
  {
   "cell_type": "code",
   "execution_count": 62,
   "metadata": {},
   "outputs": [
    {
     "data": {
      "text/plain": [
       "(0.18097631752246768, 144.11341522752747, 26.099349422481993)"
      ]
     },
     "execution_count": 62,
     "metadata": {},
     "output_type": "execute_result"
    }
   ],
   "source": [
    "kurtosis(x), kurtosis(y), kurtosis(z)"
   ]
  },
  {
   "cell_type": "markdown",
   "metadata": {},
   "source": [
    "### Correlation"
   ]
  },
  {
   "cell_type": "code",
   "execution_count": 64,
   "metadata": {},
   "outputs": [
    {
     "data": {
      "text/plain": [
       "<matplotlib.collections.PathCollection at 0x7f4c78458280>"
      ]
     },
     "execution_count": 64,
     "metadata": {},
     "output_type": "execute_result"
    },
    {
     "data": {
      "image/png": "[encoded data removed]",
      "text/plain": [
       "<Figure size 432x288 with 1 Axes>"
      ]
     },
     "metadata": {
      "needs_background": "light"
     },
     "output_type": "display_data"
    }
   ],
   "source": [
    "x1 = df_iris['sepal length (cm)']\n",
    "x2 = df_iris['petal length (cm)']\n",
    "\n",
    "plt.scatter(x1, x2)"
   ]
  },
  {
   "cell_type": "code",
   "execution_count": 65,
   "metadata": {},
   "outputs": [
    {
     "data": {
      "text/plain": [
       "array([[1.        , 0.87175378],\n",
       "       [0.87175378, 1.        ]])"
      ]
     },
     "execution_count": 65,
     "metadata": {},
     "output_type": "execute_result"
    }
   ],
   "source": [
    "np.corrcoef(x1, x2)"
   ]
  },
  {
   "cell_type": "code",
   "execution_count": 69,
   "metadata": {},
   "outputs": [
    {
     "data": {
      "text/plain": [
       "Text(0, 0.5, 'Petal length (cm)')"
      ]
     },
     "execution_count": 69,
     "metadata": {},
     "output_type": "execute_result"
    },
    {
     "data": {
      "image/png": "[encoded data removed]",
      "text/plain": [
       "<Figure size 432x288 with 1 Axes>"
      ]
     },
     "metadata": {
      "needs_background": "light"
     },
     "output_type": "display_data"
    }
   ],
   "source": [
    "slope, intercept = np.polyfit(x1, x2, 1)\n",
    "plt.plot(x1,x2, 'o')\n",
    "plt.plot(x1, x1*slope+intercept)\n",
    "plt.xlabel('Sepal length (cm)')\n",
    "plt.ylabel('Petal length (cm)')"
   ]
  },
  {
   "cell_type": "code",
   "execution_count": null,
   "metadata": {},
   "outputs": [],
   "source": []
  }
 ],
 "metadata": {
  "kernelspec": {
   "display_name": "Python 3",
   "language": "python",
   "name": "python3"
  },
  "language_info": {
   "codemirror_mode": {
    "name": "ipython",
    "version": 3
   },
   "file_extension": ".py",
   "mimetype": "text/x-python",
   "name": "python",
   "nbconvert_exporter": "python",
   "pygments_lexer": "ipython3",
   "version": "3.8.3"
  }
 },
 "nbformat": 4,
 "nbformat_minor": 4
}
