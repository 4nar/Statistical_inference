{
 "cells": [
  {
   "cell_type": "markdown",
   "metadata": {},
   "source": [
    "## Point estimates\n",
    "\n",
    "With parametric models, we often want to estimate the value of some parameter using the sample $x_1, x_2...x_n$\n",
    "\n",
    "* We estimate the expected value $\\mu$ of a normal distribution $\\mathcal{N}(\\mu, \\sigma^2)$ by the maximum likelihood estimate $\\hat{x}$\n",
    "* We estimate population skewness coefficient $\\gamma$ by sample skewness coefficient $\\hat{\\gamma}$\n",
    "\n",
    "Such estimates are called point estimates of the parameter.\n",
    "A parameter is a quantity characterizing the population/generating distribution, similar to statistic which is property of a sample.\n",
    "\n",
    "A point estimate on its own rarely gives enough information.\n",
    "To gain some idea on precision of the point estimate, they often are accompanied with measures of their accuracy.  "
   ]
  },
  {
   "cell_type": "markdown",
   "metadata": {},
   "source": [
    "## Confidence interval\n",
    "\n",
    "A confidence interval gives an estimated range of values which is likely to contain the value of unknown population parameter.\n",
    "\n",
    "A confidence level of a confidence interval determines the probability that the produced confidence interval (interpreted as a random interval) contains a true population parameter value.\n",
    "\n",
    "E.g. If a 95% confidence intervals for an unknown parameter are computed from 100 independent samples, approximately 95 of these will contain true parameter value, but we don't know which.\n",
    "\n",
    "Note that any particular realized confidence interval either contains the true parameter value or not; the 95% frequency concerns the probability in the sampling process;"
   ]
  },
  {
   "cell_type": "markdown",
   "metadata": {},
   "source": [
    "## The bootstrap\n",
    "\n",
    "The standard formulas for confidence intervals either make heavy parametric assumptions or work only for parameters estimable by means (CLT)\n",
    "\n",
    "The standard non-parametric procedure for estimating confidence intervals is called bootstrap.\n",
    "\n",
    "Bootstrap creates pseudo-samples by drawing n observations from the data, with replacement, repeating the procedure for a large number of times.\n",
    "\n",
    "If n is large enough the pseudo-sampling approximates the true sampling from the population."
   ]
  },
  {
   "cell_type": "markdown",
   "metadata": {},
   "source": [
    "## Bootstrap confidence intervals\n",
    "\n",
    "Let $x_1, x_2,..., x_n$ be a i.i.d sample from a distribution (parametric model) $F_x$\n",
    "\n",
    "Let $\\theta$ be a parameter of the distribution $F_x$ and $\\hat{\\theta}$ the point estimate of $\\theta$\n",
    "\n",
    "The approximate confidence interval for $\\theta$ can be obtained by bootstrap re-sampling as follows:\n",
    "\n",
    "1) Select n data points randomly with replacement from original sample $\\{x_1, x_2, ..., x_n\\}$. Each data point can be selected multiple times, once or not at all. Note that the sample size of the new sample is the same as the sample size of the original sample.\n",
    "\n",
    "2) Use this new sample to calculate a new estimate for the parameter $\\theta$.\n",
    "\n",
    "3) Repeat the previous steps $B$ times.\n",
    "\n",
    "4) After the replications order the $B$ estimates from the smallest to largest.\n",
    "\n",
    "5) A $100(1-\\alpha)$ % confidence interval is now obtained by choosing the $\\lfloor B\\frac{\\alpha}{2} \\rfloor$ ordered estimate as the lower endpoint and $\\lfloor B(1-\\frac{\\alpha}{2}) \\rfloor$ ordered estimate as the upper end point."
   ]
  },
  {
   "cell_type": "markdown",
   "metadata": {},
   "source": [
    "### Confidence interval for expected value bootstrap"
   ]
  },
  {
   "cell_type": "code",
   "execution_count": 1,
   "metadata": {},
   "outputs": [],
   "source": [
    "import statsmodels.api as sm"
   ]
  },
  {
   "cell_type": "code",
   "execution_count": 3,
   "metadata": {},
   "outputs": [],
   "source": [
    "rivers = sm.datasets.get_rdataset(\"rivers\", cache=True).data"
   ]
  },
  {
   "cell_type": "code",
   "execution_count": 7,
   "metadata": {},
   "outputs": [],
   "source": [
    "x = rivers.dat.values"
   ]
  },
  {
   "cell_type": "code",
   "execution_count": 9,
   "metadata": {},
   "outputs": [],
   "source": [
    "import matplotlib.pyplot as plt\n",
    "import seaborn as sns\n",
    "%matplotlib inline"
   ]
  },
  {
   "cell_type": "code",
   "execution_count": 10,
   "metadata": {},
   "outputs": [
    {
     "data": {
      "text/plain": [
       "<matplotlib.axes._subplots.AxesSubplot at 0x7f2b80c3fca0>"
      ]
     },
     "execution_count": 10,
     "metadata": {},
     "output_type": "execute_result"
    },
    {
     "data": {
      "image/png": "[encoded data removed]",
      "text/plain": [
       "<Figure size 432x288 with 1 Axes>"
      ]
     },
     "metadata": {
      "needs_background": "light"
     },
     "output_type": "display_data"
    }
   ],
   "source": [
    "sns.boxplot(x)"
   ]
  },
  {
   "cell_type": "code",
   "execution_count": 11,
   "metadata": {},
   "outputs": [],
   "source": [
    "n = len(x)"
   ]
  },
  {
   "cell_type": "code",
   "execution_count": 14,
   "metadata": {},
   "outputs": [],
   "source": [
    "import numpy as np"
   ]
  },
  {
   "cell_type": "code",
   "execution_count": 17,
   "metadata": {},
   "outputs": [],
   "source": [
    "B = 1000\n",
    "res = [np.random.choice(x, n, replace=True).mean() for i in range(B)]"
   ]
  },
  {
   "cell_type": "code",
   "execution_count": 18,
   "metadata": {},
   "outputs": [
    {
     "data": {
      "text/plain": [
       "(array([  1.,  14.,  75., 197., 257., 229., 146.,  61.,  17.,   3.]),\n",
       " array([451.19148936, 479.76099291, 508.33049645, 536.9       ,\n",
       "        565.46950355, 594.03900709, 622.60851064, 651.17801418,\n",
       "        679.74751773, 708.31702128, 736.88652482]),\n",
       " <a list of 10 Patch objects>)"
      ]
     },
     "execution_count": 18,
     "metadata": {},
     "output_type": "execute_result"
    },
    {
     "data": {
      "image/png": "[encoded data removed]",
      "text/plain": [
       "<Figure size 432x288 with 1 Axes>"
      ]
     },
     "metadata": {
      "needs_background": "light"
     },
     "output_type": "display_data"
    }
   ],
   "source": [
    "plt.hist(res)"
   ]
  },
  {
   "cell_type": "code",
   "execution_count": 21,
   "metadata": {},
   "outputs": [],
   "source": [
    "ci_bs = np.quantile(np.array(res), [0.025, 0.975])"
   ]
  },
  {
   "cell_type": "code",
   "execution_count": 22,
   "metadata": {},
   "outputs": [
    {
     "data": {
      "text/plain": [
       "array([515.49219858, 674.56684397])"
      ]
     },
     "execution_count": 22,
     "metadata": {},
     "output_type": "execute_result"
    }
   ],
   "source": [
    "ci_bs"
   ]
  },
  {
   "cell_type": "code",
   "execution_count": 28,
   "metadata": {},
   "outputs": [
    {
     "data": {
      "text/plain": [
       "<matplotlib.lines.Line2D at 0x7f2b790845e0>"
      ]
     },
     "execution_count": 28,
     "metadata": {},
     "output_type": "execute_result"
    },
    {
     "data": {
      "image/png": "[encoded data removed]",
      "text/plain": [
       "<Figure size 432x288 with 1 Axes>"
      ]
     },
     "metadata": {
      "needs_background": "light"
     },
     "output_type": "display_data"
    }
   ],
   "source": [
    "plt.hist(res)\n",
    "plt.axvline(ci_bs[0], c='r')\n",
    "plt.axvline(ci_bs[1], c='r')"
   ]
  },
  {
   "cell_type": "markdown",
   "metadata": {},
   "source": [
    "## Exact confidence intervals"
   ]
  },
  {
   "cell_type": "markdown",
   "metadata": {},
   "source": [
    "Often when the type of distribution is known, exact confidence intervals can be calculated.\n",
    "\n",
    "Let $x_1, x_2, ... x_n$ be an i.i.d sample from a normal distribution $\\mathcal{N}(\\mu, \\sigma^2)$ where both $\\mu \\in \\mathbb{R}$ and $\\sigma^2>0$ are unknown.\n",
    "\n",
    "A level $100(1-\\alpha)$ % confidence interval for $\\mu$ is obtained $$(\\overline{x} - t_{n-1, \\frac{\\alpha}{2}}\\frac{s}{\\sqrt{n}}, \\overline{x} + t_{n-1, \\frac{\\alpha}{2}}\\frac{s}{\\sqrt{n}})$$,\n",
    "\n",
    "where $t_{n-1, \\frac{\\alpha}{2}}$ is the $(1 - \\frac{\\alpha}{2})$-quantile of the Student's t-distribution with $n-1$ degrees of freedom.\n",
    "\n",
    "For large values of $n$, Student's t-distribution with $n-1$ degrees of freedom approaches standard normal distribution, and it's corresponding quantile can be substituted in place of $t_{n-1, \\frac{\\alpha}{2}}$\n",
    "\n",
    "A level $100(1-\\alpha)$ % confidence interval for $\\sigma^2$ is obtained $$(\\frac{(n-1)s^2}{\\chi^2_{n-1, \\frac{\\alpha}{2}}},\\frac{(n-1)s^2}{\\chi^2_{n-1, 1-\\frac{\\alpha}{2}}})$$ \n",
    "\n",
    "where $\\chi^2_{n-1, \\frac{\\alpha}{2}}$ is $(1-\\frac{\\alpha}{2})$-quantile of the $\\chi^2_{n-1}$ distribution and $\\chi^2_{n-1, 1-\\frac{\\alpha}{2}}$ is $\\frac{\\alpha}{2}$-quantile of the $\\chi^2_{n-1}$ distribution"
   ]
  },
  {
   "cell_type": "markdown",
   "metadata": {},
   "source": [
    "### Parametric 95% confidence interval assuming normality"
   ]
  },
  {
   "cell_type": "code",
   "execution_count": 29,
   "metadata": {},
   "outputs": [],
   "source": [
    "from scipy.stats import t"
   ]
  },
  {
   "cell_type": "code",
   "execution_count": 34,
   "metadata": {},
   "outputs": [],
   "source": [
    "alpha = 0.05\n",
    "student_t_coeff = t.ppf(q=1-(alpha/2), df = n-1)"
   ]
  },
  {
   "cell_type": "code",
   "execution_count": 45,
   "metadata": {},
   "outputs": [],
   "source": [
    "ci_ex_l = x.mean() - student_t_coeff*(x.std(ddof=1)/np.sqrt(n))\n",
    "\n",
    "ci_ex_u = x.mean() + student_t_coeff*(x.std(ddof=1)/np.sqrt(n))"
   ]
  },
  {
   "cell_type": "code",
   "execution_count": 46,
   "metadata": {},
   "outputs": [
    {
     "data": {
      "text/plain": [
       "(508.95591005108497, 673.4128842751562)"
      ]
     },
     "execution_count": 46,
     "metadata": {},
     "output_type": "execute_result"
    }
   ],
   "source": [
    "ci_ex_l, ci_ex_u"
   ]
  },
  {
   "cell_type": "code",
   "execution_count": 47,
   "metadata": {},
   "outputs": [],
   "source": [
    "standard_norm_coeff = 1.96\n",
    "ci_ex_l_sn = x.mean() - standard_norm_coeff*(x.std(ddof=1)/np.sqrt(n))\n",
    "\n",
    "ci_ex_u_sn = x.mean() + standard_norm_coeff*(x.std(ddof=1)/np.sqrt(n))"
   ]
  },
  {
   "cell_type": "code",
   "execution_count": 48,
   "metadata": {},
   "outputs": [
    {
     "data": {
      "text/plain": [
       "(509.66519860099936, 672.7035957252418)"
      ]
     },
     "execution_count": 48,
     "metadata": {},
     "output_type": "execute_result"
    }
   ],
   "source": [
    "ci_ex_l_sn, ci_ex_u_sn"
   ]
  },
  {
   "cell_type": "code",
   "execution_count": 49,
   "metadata": {},
   "outputs": [
    {
     "data": {
      "text/plain": [
       "<matplotlib.lines.Line2D at 0x7f2b7906bd90>"
      ]
     },
     "execution_count": 49,
     "metadata": {},
     "output_type": "execute_result"
    },
    {
     "data": {
      "image/png": "[encoded data removed]",
      "text/plain": [
       "<Figure size 432x288 with 1 Axes>"
      ]
     },
     "metadata": {
      "needs_background": "light"
     },
     "output_type": "display_data"
    }
   ],
   "source": [
    "plt.hist(res)\n",
    "plt.axvline(ci_bs[0], c='r')\n",
    "plt.axvline(ci_bs[1], c='r')\n",
    "plt.axvline(ci_ex_l_sn, c='g')\n",
    "plt.axvline(ci_ex_u_sn, c='g')"
   ]
  },
  {
   "cell_type": "code",
   "execution_count": 50,
   "metadata": {},
   "outputs": [
    {
     "data": {
      "text/plain": [
       "591.1843971631206"
      ]
     },
     "execution_count": 50,
     "metadata": {},
     "output_type": "execute_result"
    }
   ],
   "source": [
    "x.mean()"
   ]
  },
  {
   "cell_type": "markdown",
   "metadata": {},
   "source": [
    "### Bootstrap confidence interval for skewness"
   ]
  },
  {
   "cell_type": "code",
   "execution_count": 51,
   "metadata": {},
   "outputs": [],
   "source": [
    "from scipy.stats import skew"
   ]
  },
  {
   "cell_type": "code",
   "execution_count": 52,
   "metadata": {},
   "outputs": [],
   "source": [
    "res = [skew(np.random.choice(x, n, replace=True)) for i in range(B)]\n",
    "res = np.array(res)"
   ]
  },
  {
   "cell_type": "code",
   "execution_count": 53,
   "metadata": {},
   "outputs": [
    {
     "data": {
      "text/plain": [
       "(1000,)"
      ]
     },
     "execution_count": 53,
     "metadata": {},
     "output_type": "execute_result"
    }
   ],
   "source": [
    "res.shape"
   ]
  },
  {
   "cell_type": "code",
   "execution_count": 54,
   "metadata": {},
   "outputs": [],
   "source": [
    "ci_bs = np.quantile(res, [alpha/2, 1-(alpha/2)])"
   ]
  },
  {
   "cell_type": "code",
   "execution_count": 55,
   "metadata": {},
   "outputs": [
    {
     "data": {
      "text/plain": [
       "array([1.93242555, 4.11051448])"
      ]
     },
     "execution_count": 55,
     "metadata": {},
     "output_type": "execute_result"
    }
   ],
   "source": [
    "ci_bs"
   ]
  },
  {
   "cell_type": "code",
   "execution_count": 56,
   "metadata": {},
   "outputs": [
    {
     "data": {
      "text/plain": [
       "<matplotlib.lines.Line2D at 0x7f2b793a29d0>"
      ]
     },
     "execution_count": 56,
     "metadata": {},
     "output_type": "execute_result"
    },
    {
     "data": {
      "image/png": "[encoded data removed]",
      "text/plain": [
       "<Figure size 432x288 with 1 Axes>"
      ]
     },
     "metadata": {
      "needs_background": "light"
     },
     "output_type": "display_data"
    }
   ],
   "source": [
    "plt.hist(res)\n",
    "plt.axvline(ci_bs[0], c='r')\n",
    "plt.axvline(ci_bs[1], c='r')"
   ]
  },
  {
   "cell_type": "code",
   "execution_count": null,
   "metadata": {},
   "outputs": [],
   "source": []
  }
 ],
 "metadata": {
  "kernelspec": {
   "display_name": "Python 3",
   "language": "python",
   "name": "python3"
  },
  "language_info": {
   "codemirror_mode": {
    "name": "ipython",
    "version": 3
   },
   "file_extension": ".py",
   "mimetype": "text/x-python",
   "name": "python",
   "nbconvert_exporter": "python",
   "pygments_lexer": "ipython3",
   "version": "3.8.3"
  }
 },
 "nbformat": 4,
 "nbformat_minor": 4
}
