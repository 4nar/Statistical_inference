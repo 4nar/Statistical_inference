{
 "cells": [
  {
   "cell_type": "markdown",
   "metadata": {},
   "source": [
    "Examples of statistical testing situations:\n",
    "* Testing whether psychic can predict a winner of a sports match\n",
    "* Testing whether new treatment works better than old one\n",
    "\n"
   ]
  },
  {
   "cell_type": "markdown",
   "metadata": {},
   "source": [
    "## Hypothesis testing\n",
    "\n",
    "* Selecting statistical model/assumptions\n",
    "* Setting null hypothesis and often alternative hypothesis\n",
    "* Choosing a suitable test statistic, the value of which is calculated from a sample of observations\n",
    "\n",
    "The result of statistical hypothesis testing is p-value, based on which the conclusions are drawn."
   ]
  },
  {
   "cell_type": "markdown",
   "metadata": {},
   "source": [
    "### Statistical model\n",
    "\n",
    "* Statistical model/assumptions casts a problem in a mathematical context and defines the rules of probability governing it.\n",
    "* Statistical models are usually of the form:\n",
    "\n",
    "    \" Let's $x_1, x_2...x_n$ be an i.i.d sample from a distribution $F$ with unknown parameters $\\theta$\"\n",
    "* The validity of the statistical model needs to be tested separately.\n",
    "\n",
    "Examples of statistical models/assumptions:\n",
    "\n",
    "* A psychic guesses a winner of each of the $n$ sports matches correctly with the probability $p$, independent of his previous guesses.\n",
    "* The treatment group responses $x_1, x_2, ..., x_n$ are an i.i.d sample from $\\mathcal{N}(\\mu_1, \\sigma^2)$ and the control group responses $y_1, y_2, ..., y_m$ are an i.i.d sample from $\\mathcal{N}(\\mu_2, \\sigma^2)$."
   ]
  },
  {
   "cell_type": "markdown",
   "metadata": {},
   "source": [
    "### Null hypothesis\n",
    "\n",
    "* The statement of interest about a model parameter is called the null hypothesis $H_0$.\n",
    "* $H_0$ is assumed to be true unless there is a strong evidence that indicates otherwise, in which case it is rejected.\n",
    "* In simple statistical test the null hypothesis is often can be stated as an equality: $H_0:\\theta=\\theta_0$, where $\\theta$ is the parameter being tested and $\\theta_0$ is a fixed value of the parameter.\n",
    "* The null hypothesis is often conceptually of the form \"is the same\" or \"there is no difference\"\n",
    "\n",
    "Examples of null hypothesis:\n",
    "* $H_0:p=0.5$\n",
    "* $H_0:\\mu_1=\\mu_2$"
   ]
  },
  {
   "cell_type": "markdown",
   "metadata": {},
   "source": [
    "### Alternative hypothesis\n",
    "* The null hypothesis is often accompanied by an alternative hypothesis $H_1$, which is often a logical opposite of $H_0$ (though not always)\n",
    "* If $H_0$ is rejected, then $H_1$ is accepted\n",
    "* The alternative hypothesis is often conceptually of the form \"is not the same\" or \"there is a difference\"\n",
    "\n",
    "Examples of alternative hypothesis:\n",
    "* $H_1: p \\neq 0.5$\n",
    "* $H_1:\\mu_1>\\mu_2$\n",
    "\n",
    "Two-tailed alternative hypothesis:$$H_0: \\theta=\\theta_0 , H_1:\\theta \\neq \\theta_0$$"
   ]
  },
  {
   "cell_type": "markdown",
   "metadata": {},
   "source": [
    "### Test statistic\n",
    "\n",
    "* Test statistic measures deviation of the observed sample from the null hypothesis $H_0$.\n",
    "* Test statistic is a random variable and its value depend on observation.\n",
    "* The distribution of the test statistic under the null hypothesis must be known for assessing the compatibility of the observations and the null hypothesis $H_0$.\n",
    "\n",
    "Examples of the test statistic:\n",
    "* The proportion of correct guesses out of the total n.\n",
    "* $\\overline{x} - \\overline{y}$"
   ]
  },
  {
   "cell_type": "markdown",
   "metadata": {},
   "source": [
    "### p-value\n",
    "\n",
    "* p-value of a statistical test is the probability of observing at least as deviating value towards $H_1$ as the observed value of the test statistic under the null hypothesis $H_0$.\n",
    "* Note that what is considered as \"deviating\" depends on the form of the hypothesis.\n",
    "* If the p-value is too small (observation is too strange to have happened under $H_0$), we reject $H_0$ in favor of $H_1$\n",
    "* Note that we cannot accept $H_0$ based on test, only continue to believe in it.\n"
   ]
  },
  {
   "cell_type": "markdown",
   "metadata": {},
   "source": [
    "### Significance level and critical values\n",
    "\n",
    "* Significance level $\\alpha$ is used to make a cut-off between small and large p-values.\n",
    "    * If $p < \\alpha$ we reject $H_0$\n",
    "    * If $p \\geq \\alpha$ we do not reject $H_0$\n",
    "* The set of values of test statistic for which the null hypothesis is rejected (i.e the values which yield p-value smaller than $\\alpha$) is called the critical region.\n",
    "* The threshold values delimiting the regions of rejection and non-rejection for the test statistic are called critical values."
   ]
  },
  {
   "cell_type": "markdown",
   "metadata": {},
   "source": [
    "### Errors in statistical hypothesis testing\n",
    "\n",
    "There are two kinds of errors related to the rejection of the null hypothesis $H_0$:\n",
    "* Type 1 error: True null hypothesis is rejected\n",
    "* Type 2 error: False null hypothesis is not rejected\n",
    "\n",
    "The type 1 error rate is the probability of rejecting true $H_0$. It is at most $\\alpha$\n",
    "\n",
    "The type 2 error rate is the probability of not rejecting false $H_0$. Type 2 error rate is more difficult to control as it is usually a function of the possible distributions under $H_1$\n",
    "\n",
    "Power of a test is equal to 1-\"type 2 error rate\". The larger the power, the better the test detects false null hypotheses. "
   ]
  },
  {
   "cell_type": "markdown",
   "metadata": {},
   "source": [
    "### Steps of statistical hypothesis testing\n",
    "\n",
    "1. Select a statistical model and state hypotheses.\n",
    "2. Select a test statistic\n",
    "3. Pick a sample (for which the model holds)\n",
    "4. Calculate the value of the test statistic from the data.\n",
    "5. Calculate the p-value corresponding to the observed value of the test statistic.\n",
    "6. Draw conclusions and reject/ do not reject the null hypothesis"
   ]
  },
  {
   "cell_type": "markdown",
   "metadata": {},
   "source": [
    "### Illustration of type 1 and type 2 error using t-test"
   ]
  },
  {
   "cell_type": "code",
   "execution_count": 1,
   "metadata": {},
   "outputs": [],
   "source": [
    "import numpy as np\n",
    "import matplotlib.pyplot as plt\n",
    "import seaborn as sns\n",
    "%matplotlib inline\n",
    "from scipy import stats"
   ]
  },
  {
   "cell_type": "code",
   "execution_count": 2,
   "metadata": {},
   "outputs": [],
   "source": [
    "# Let's generate a sample\n",
    "n = 15\n",
    "theta = 0 \n",
    "sigma = 3\n",
    "alpha = 0.05\n",
    "sample = np.random.normal(theta, sigma, n)"
   ]
  },
  {
   "cell_type": "code",
   "execution_count": 3,
   "metadata": {},
   "outputs": [],
   "source": [
    "# Calculating the value of the test statistic from observed data\n",
    "t_observed_0 = (sample.mean() - theta)/(sample.std(ddof=1)/np.sqrt(n))"
   ]
  },
  {
   "cell_type": "code",
   "execution_count": 4,
   "metadata": {},
   "outputs": [
    {
     "data": {
      "text/plain": [
       "-0.4318233448866763"
      ]
     },
     "execution_count": 4,
     "metadata": {},
     "output_type": "execute_result"
    }
   ],
   "source": [
    "t_observed_0\n",
    "# Is it too large to happen under H_0"
   ]
  },
  {
   "cell_type": "code",
   "execution_count": 5,
   "metadata": {},
   "outputs": [],
   "source": [
    "def t_generate(theta_):\n",
    "    samp = np.random.normal(theta_, 3, n)\n",
    "    samp_std = samp.std(ddof=1)\n",
    "    samp_mean = samp.mean()\n",
    "    return (samp_mean - 0)/(samp_std/np.sqrt(n))"
   ]
  },
  {
   "cell_type": "code",
   "execution_count": 7,
   "metadata": {},
   "outputs": [],
   "source": [
    "# To calculate the p-value we first need to generate sample of test statistics \n",
    "\n",
    "thetas_0 = [t_generate(theta) for i in range(10000)]\n"
   ]
  },
  {
   "cell_type": "code",
   "execution_count": 8,
   "metadata": {},
   "outputs": [],
   "source": [
    "quants = np.quantile(thetas_0, [0.025, 0.975])"
   ]
  },
  {
   "cell_type": "code",
   "execution_count": 9,
   "metadata": {},
   "outputs": [
    {
     "data": {
      "text/plain": [
       "<matplotlib.lines.Line2D at 0x7f1eb0a3d8b0>"
      ]
     },
     "execution_count": 9,
     "metadata": {},
     "output_type": "execute_result"
    },
    {
     "data": {
      "image/png": "[encoded data removed]",
      "text/plain": [
       "<Figure size 432x288 with 1 Axes>"
      ]
     },
     "metadata": {
      "needs_background": "light"
     },
     "output_type": "display_data"
    }
   ],
   "source": [
    "plt.hist(thetas_0)\n",
    "plt.axvline(quants[0], c=\"red\")\n",
    "plt.axvline(quants[1], c=\"red\")\n",
    "plt.axvline(t_observed_0, c=\"black\")"
   ]
  },
  {
   "cell_type": "code",
   "execution_count": 10,
   "metadata": {},
   "outputs": [],
   "source": [
    "p_value = np.mean((thetas_0>= abs(t_observed_0) )| (thetas_0<= -abs(t_observed_0)) )"
   ]
  },
  {
   "cell_type": "code",
   "execution_count": 11,
   "metadata": {},
   "outputs": [
    {
     "name": "stdout",
     "output_type": "stream",
     "text": [
      "We do not reject null hypothesis, p-value=0.6724\n"
     ]
    }
   ],
   "source": [
    "if p_value>=alpha:\n",
    "    print(f'We do not reject null hypothesis, p-value={p_value}')\n",
    "else:\n",
    "    print(f'We do reject null hypothesis, p-value={p_value}')"
   ]
  },
  {
   "cell_type": "code",
   "execution_count": 12,
   "metadata": {},
   "outputs": [],
   "source": [
    "p_value_analytical = 2*min(stats.t.cdf(t_observed_0, n-1), 1 - stats.t.cdf(t_observed_0, n-1) )"
   ]
  },
  {
   "cell_type": "code",
   "execution_count": 13,
   "metadata": {},
   "outputs": [
    {
     "data": {
      "text/plain": [
       "0.6724460869488772"
      ]
     },
     "execution_count": 13,
     "metadata": {},
     "output_type": "execute_result"
    }
   ],
   "source": [
    "p_value_analytical"
   ]
  },
  {
   "cell_type": "markdown",
   "metadata": {},
   "source": [
    "Type 1 error is 5% probability of claiming that there is an effect when there is not\n",
    "\n",
    "What about type 2 error\n",
    "\n",
    "The distribution of t when H_1: theta = 1 is true"
   ]
  },
  {
   "cell_type": "code",
   "execution_count": 15,
   "metadata": {},
   "outputs": [],
   "source": [
    "theta_1 = [t_generate(theta_=1) for i in range (10000)]"
   ]
  },
  {
   "cell_type": "code",
   "execution_count": 16,
   "metadata": {},
   "outputs": [
    {
     "data": {
      "text/plain": [
       "<matplotlib.lines.Line2D at 0x7f1eb09394c0>"
      ]
     },
     "execution_count": 16,
     "metadata": {},
     "output_type": "execute_result"
    },
    {
     "data": {
      "image/png": "[encoded data removed]",
      "text/plain": [
       "<Figure size 432x288 with 1 Axes>"
      ]
     },
     "metadata": {
      "needs_background": "light"
     },
     "output_type": "display_data"
    }
   ],
   "source": [
    "plt.hist(thetas_0, alpha=0.5)\n",
    "plt.hist(theta_1, alpha=0.5)\n",
    "plt.axvline(quants[0], c=\"red\")\n",
    "plt.axvline(quants[1], c=\"red\")"
   ]
  },
  {
   "cell_type": "code",
   "execution_count": 17,
   "metadata": {},
   "outputs": [
    {
     "data": {
      "text/plain": [
       "0.7704"
      ]
     },
     "execution_count": 17,
     "metadata": {},
     "output_type": "execute_result"
    }
   ],
   "source": [
    "# Type 2 error rate for theta 1\n",
    "((theta_1<quants[1]) & (theta_1>quants[0])).mean()"
   ]
  },
  {
   "cell_type": "markdown",
   "metadata": {},
   "source": [
    "Conduct a single study where H1: theta=1 is true"
   ]
  },
  {
   "cell_type": "code",
   "execution_count": 19,
   "metadata": {},
   "outputs": [],
   "source": [
    "t_observed_1 = t_generate(1)"
   ]
  },
  {
   "cell_type": "code",
   "execution_count": 20,
   "metadata": {},
   "outputs": [
    {
     "data": {
      "text/plain": [
       "<matplotlib.lines.Line2D at 0x7f1eb0863f40>"
      ]
     },
     "execution_count": 20,
     "metadata": {},
     "output_type": "execute_result"
    },
    {
     "data": {
      "image/png": "[encoded data removed]",
      "text/plain": [
       "<Figure size 432x288 with 1 Axes>"
      ]
     },
     "metadata": {
      "needs_background": "light"
     },
     "output_type": "display_data"
    }
   ],
   "source": [
    "plt.hist(thetas_0, alpha=0.5)\n",
    "plt.hist(theta_1, alpha=0.5)\n",
    "plt.axvline(quants[0], c=\"red\")\n",
    "plt.axvline(quants[1], c=\"red\")\n",
    "plt.axvline(t_observed_1, c=\"black\")"
   ]
  },
  {
   "cell_type": "code",
   "execution_count": 21,
   "metadata": {},
   "outputs": [
    {
     "data": {
      "text/plain": [
       "0.1193"
      ]
     },
     "execution_count": 21,
     "metadata": {},
     "output_type": "execute_result"
    }
   ],
   "source": [
    "#pvalue\n",
    "((thetas_0>=abs(t_observed_1)) | (thetas_0<=-abs(t_observed_1))).mean()"
   ]
  },
  {
   "cell_type": "markdown",
   "metadata": {},
   "source": [
    "Making the \"normally behaving\" area wider makes true H_0 easier to recognize (lower type 1 error), but deviation from H_0 more difficult to recognize (higher type 2 error) and vice versa"
   ]
  },
  {
   "cell_type": "markdown",
   "metadata": {},
   "source": [
    "Recognizing deviations from H_0 gets more difficult as we approach theta=0"
   ]
  },
  {
   "cell_type": "code",
   "execution_count": 23,
   "metadata": {},
   "outputs": [],
   "source": [
    "theta_01 = [t_generate(0.1) for i in range(10000)]"
   ]
  },
  {
   "cell_type": "code",
   "execution_count": 24,
   "metadata": {},
   "outputs": [
    {
     "data": {
      "text/plain": [
       "0.9498"
      ]
     },
     "execution_count": 24,
     "metadata": {},
     "output_type": "execute_result"
    }
   ],
   "source": [
    "# Type 2 error rate for theta=0.1\n",
    "np.mean((theta_01>quants[0]) & (theta_01<quants[1]))"
   ]
  },
  {
   "cell_type": "code",
   "execution_count": 26,
   "metadata": {},
   "outputs": [],
   "source": [
    "#Conduct a single study where H0 is false\n",
    "t_observed_01 = t_generate(0.1)"
   ]
  },
  {
   "cell_type": "code",
   "execution_count": 27,
   "metadata": {},
   "outputs": [
    {
     "data": {
      "text/plain": [
       "<matplotlib.lines.Line2D at 0x7f1eb074e430>"
      ]
     },
     "execution_count": 27,
     "metadata": {},
     "output_type": "execute_result"
    },
    {
     "data": {
      "image/png": "[encoded data removed]",
      "text/plain": [
       "<Figure size 432x288 with 1 Axes>"
      ]
     },
     "metadata": {
      "needs_background": "light"
     },
     "output_type": "display_data"
    }
   ],
   "source": [
    "plt.hist(thetas_0, alpha=0.5)\n",
    "plt.hist(theta_01, alpha=0.5)\n",
    "plt.axvline(quants[0], c=\"red\")\n",
    "plt.axvline(quants[1], c=\"red\")\n",
    "plt.axvline(t_observed_01, c='b')"
   ]
  },
  {
   "cell_type": "code",
   "execution_count": 28,
   "metadata": {},
   "outputs": [
    {
     "data": {
      "text/plain": [
       "0.5711"
      ]
     },
     "execution_count": 28,
     "metadata": {},
     "output_type": "execute_result"
    }
   ],
   "source": [
    "# p-value\n",
    "((thetas_0>=abs(t_observed_01)) | (thetas_0<=-abs(t_observed_01))).mean()"
   ]
  },
  {
   "cell_type": "markdown",
   "metadata": {},
   "source": [
    "## T tests"
   ]
  },
  {
   "cell_type": "markdown",
   "metadata": {},
   "source": [
    "### One-sample t-test \n",
    "\n",
    "One-sample t-test compares the expected value of a distribution to a given constant.\n",
    "\n",
    "One sample t-test assumptions:\n",
    "* Let $x_1, x_2, ..., x_n$ be an i.i.d sample from a $\\mathcal{N}(\\mu, \\sigma^2)$.\n",
    "\n",
    "One sample t-test hypotheses: $$H_0: \\mu = \\mu_0, H_1: \\mu \\neq \\mu_0$$\n",
    "\n",
    "\n",
    "* The t-test statistic $$t = \\frac{\\overline{x} - \\mu_0}{\\frac{s}{\\sqrt{n}}}$$\n",
    "* follows Student's t-distribution with $n-1$ degrees of freedom under $H_0$\n",
    "* The expected value of $t$ under the null hypothesis $H_0$ is 0 and if the value of $t$ has large absolute value, evidence against the null hypothesis $H_0$ is found.\n",
    "\n",
    "If the sample size is large, then one sample t-test is not very sensitive to moderate deviations from normality.\n"
   ]
  },
  {
   "cell_type": "markdown",
   "metadata": {},
   "source": [
    "One sample t-test example"
   ]
  },
  {
   "cell_type": "code",
   "execution_count": 29,
   "metadata": {},
   "outputs": [
    {
     "data": {
      "text/html": [
       "<div>\n",
       "<style scoped>\n",
       "    .dataframe tbody tr th:only-of-type {\n",
       "        vertical-align: middle;\n",
       "    }\n",
       "\n",
       "    .dataframe tbody tr th {\n",
       "        vertical-align: top;\n",
       "    }\n",
       "\n",
       "    .dataframe thead th {\n",
       "        text-align: right;\n",
       "    }\n",
       "</style>\n",
       "<table border=\"1\" class=\"dataframe\">\n",
       "  <thead>\n",
       "    <tr style=\"text-align: right;\">\n",
       "      <th></th>\n",
       "      <th>extra</th>\n",
       "      <th>group</th>\n",
       "      <th>ID</th>\n",
       "    </tr>\n",
       "  </thead>\n",
       "  <tbody>\n",
       "    <tr>\n",
       "      <th>0</th>\n",
       "      <td>0.7</td>\n",
       "      <td>1</td>\n",
       "      <td>1</td>\n",
       "    </tr>\n",
       "    <tr>\n",
       "      <th>1</th>\n",
       "      <td>-1.6</td>\n",
       "      <td>1</td>\n",
       "      <td>2</td>\n",
       "    </tr>\n",
       "    <tr>\n",
       "      <th>2</th>\n",
       "      <td>-0.2</td>\n",
       "      <td>1</td>\n",
       "      <td>3</td>\n",
       "    </tr>\n",
       "    <tr>\n",
       "      <th>3</th>\n",
       "      <td>-1.2</td>\n",
       "      <td>1</td>\n",
       "      <td>4</td>\n",
       "    </tr>\n",
       "    <tr>\n",
       "      <th>4</th>\n",
       "      <td>-0.1</td>\n",
       "      <td>1</td>\n",
       "      <td>5</td>\n",
       "    </tr>\n",
       "  </tbody>\n",
       "</table>\n",
       "</div>"
      ],
      "text/plain": [
       "   extra  group  ID\n",
       "0    0.7      1   1\n",
       "1   -1.6      1   2\n",
       "2   -0.2      1   3\n",
       "3   -1.2      1   4\n",
       "4   -0.1      1   5"
      ]
     },
     "execution_count": 29,
     "metadata": {},
     "output_type": "execute_result"
    }
   ],
   "source": [
    "import statsmodels.api as sm\n",
    "sleep = sm.datasets.get_rdataset(\"sleep\",cache=True).data\n",
    "sleep.head()"
   ]
  },
  {
   "cell_type": "code",
   "execution_count": 30,
   "metadata": {},
   "outputs": [
    {
     "data": {
      "text/plain": [
       "[<matplotlib.lines.Line2D at 0x7f1eaf6ac340>]"
      ]
     },
     "execution_count": 30,
     "metadata": {},
     "output_type": "execute_result"
    },
    {
     "data": {
      "image/png": "[encoded data removed]",
      "text/plain": [
       "<Figure size 432x288 with 1 Axes>"
      ]
     },
     "metadata": {
      "needs_background": "light"
     },
     "output_type": "display_data"
    }
   ],
   "source": [
    "# Compare whether the drug differs in its effect from placebo at significance level 5%\n",
    "# H_0: mu_1==0\n",
    "# H_1: mu_1!=0\n",
    "\n",
    "plt.plot(sleep.loc[sleep['group']==1, 'extra'], sleep.loc[sleep['group']==1, 'group'], 'o')"
   ]
  },
  {
   "cell_type": "code",
   "execution_count": 31,
   "metadata": {},
   "outputs": [],
   "source": [
    "from scipy import stats"
   ]
  },
  {
   "cell_type": "code",
   "execution_count": 32,
   "metadata": {},
   "outputs": [],
   "source": [
    "t_test = stats.ttest_1samp(sleep.loc[sleep['group']==1, 'extra'], 0)"
   ]
  },
  {
   "cell_type": "code",
   "execution_count": 33,
   "metadata": {},
   "outputs": [
    {
     "data": {
      "text/plain": [
       "Ttest_1sampResult(statistic=1.3257101407138212, pvalue=0.2175977800684489)"
      ]
     },
     "execution_count": 33,
     "metadata": {},
     "output_type": "execute_result"
    }
   ],
   "source": [
    "t_test"
   ]
  },
  {
   "cell_type": "markdown",
   "metadata": {},
   "source": [
    "#### Computation"
   ]
  },
  {
   "cell_type": "code",
   "execution_count": 34,
   "metadata": {},
   "outputs": [],
   "source": [
    "n = sleep.loc[sleep['group']==1].shape[0]"
   ]
  },
  {
   "cell_type": "code",
   "execution_count": 35,
   "metadata": {},
   "outputs": [],
   "source": [
    "sample_mean = sleep.loc[sleep['group']==1, 'extra'].mean()"
   ]
  },
  {
   "cell_type": "code",
   "execution_count": 36,
   "metadata": {},
   "outputs": [],
   "source": [
    "sample_sd = sleep.loc[sleep['group']==1, 'extra'].std()"
   ]
  },
  {
   "cell_type": "code",
   "execution_count": 37,
   "metadata": {},
   "outputs": [],
   "source": [
    "hyp_mean = 0"
   ]
  },
  {
   "cell_type": "code",
   "execution_count": 38,
   "metadata": {},
   "outputs": [],
   "source": [
    "t_obs = (sample_mean - hyp_mean)/(sample_sd/np.sqrt(n))"
   ]
  },
  {
   "cell_type": "code",
   "execution_count": 39,
   "metadata": {},
   "outputs": [
    {
     "data": {
      "text/plain": [
       "1.3257101407138212"
      ]
     },
     "execution_count": 39,
     "metadata": {},
     "output_type": "execute_result"
    }
   ],
   "source": [
    "t_obs"
   ]
  },
  {
   "cell_type": "markdown",
   "metadata": {},
   "source": [
    "#### p_value using simulation"
   ]
  },
  {
   "cell_type": "code",
   "execution_count": 40,
   "metadata": {},
   "outputs": [],
   "source": [
    "t_dist = stats.t.rvs(n-1, size=10000)"
   ]
  },
  {
   "cell_type": "code",
   "execution_count": 41,
   "metadata": {},
   "outputs": [],
   "source": [
    "p_val = ((t_dist>=abs(t_obs)) | (t_dist<=-abs(t_obs))).mean()"
   ]
  },
  {
   "cell_type": "code",
   "execution_count": 42,
   "metadata": {},
   "outputs": [
    {
     "data": {
      "text/plain": [
       "0.2101"
      ]
     },
     "execution_count": 42,
     "metadata": {},
     "output_type": "execute_result"
    }
   ],
   "source": [
    "p_val"
   ]
  },
  {
   "cell_type": "code",
   "execution_count": 43,
   "metadata": {},
   "outputs": [
    {
     "data": {
      "text/plain": [
       "<matplotlib.lines.Line2D at 0x7f1eaf5defa0>"
      ]
     },
     "execution_count": 43,
     "metadata": {},
     "output_type": "execute_result"
    },
    {
     "data": {
      "image/png": "[encoded data removed]",
      "text/plain": [
       "<Figure size 432x288 with 1 Axes>"
      ]
     },
     "metadata": {
      "needs_background": "light"
     },
     "output_type": "display_data"
    }
   ],
   "source": [
    "plt.hist(t_dist)\n",
    "plt.axvline(np.quantile(t_dist, 0.025), c='r')\n",
    "plt.axvline(np.quantile(t_dist, 0.975), c='r')\n",
    "plt.axvline(t_obs, c='g')"
   ]
  },
  {
   "cell_type": "markdown",
   "metadata": {},
   "source": [
    "#### p-value analytical"
   ]
  },
  {
   "cell_type": "code",
   "execution_count": 44,
   "metadata": {},
   "outputs": [],
   "source": [
    "p_val_analytical = 2*min(stats.t.cdf(t_obs, n-1), 1-stats.t.cdf(t_obs, n-1))"
   ]
  },
  {
   "cell_type": "code",
   "execution_count": 45,
   "metadata": {},
   "outputs": [
    {
     "data": {
      "text/plain": [
       "0.21759778006844877"
      ]
     },
     "execution_count": 45,
     "metadata": {},
     "output_type": "execute_result"
    }
   ],
   "source": [
    "p_val_analytical"
   ]
  },
  {
   "cell_type": "markdown",
   "metadata": {},
   "source": [
    "### Two-sample t-test\n",
    "\n",
    "Two sample t-test compares expected values of two distributions\n",
    "\n",
    "Two-sample t-test, assumptions \n",
    "\n",
    "* Let $x_1, x_2, ..., x_n$ be an i.i.d sample from $\\mathcal{N}(\\mu_x, \\sigma_x^2)$ and $y_1, y_2,..,y_m$ be an i.i.d from $\\mathcal{N}(\\mu_y, \\sigma_y^2)$. Furthermore, let the two samples be independent\n",
    "\n",
    "Two-sample t-test, hypotheses $$H_0: \\mu_x=\\mu_y, H_1: \\mu_x \\neq \\mu_y$$\n",
    "\n",
    "\n",
    "Two-sample t-test, test statistic $$\\frac{\\overline{x} - \\overline{y}}{\\sqrt{\\frac{s_x^2}{n}+\\frac{s_y^2}{m}}}$$\n",
    "follows approximately the Student's t-distribution with $$\\frac{(\\frac{s^2_x}{n}+\\frac{s^2_y}{m})^2}{(\\frac{(s^2_x/n)^2}{(n−1)}) + (\\frac{(s^2_y/m)^2}{(m−1)})}$$ \n",
    "degrees of freedom\n",
    "\n",
    "The expected value of $t$ under $H_0$ is 0 and if the value of the test statistic has large absolute value, evidence against the null hypothesis $H_0$ is found.\n",
    "\n",
    "If the sample size is large, then the two-sample t-test is not very sensitive to moderate deviations from normality."
   ]
  },
  {
   "cell_type": "markdown",
   "metadata": {},
   "source": [
    "#### Two-sample t-test example"
   ]
  },
  {
   "cell_type": "code",
   "execution_count": 46,
   "metadata": {},
   "outputs": [
    {
     "data": {
      "text/plain": [
       "[<matplotlib.lines.Line2D at 0x7f1eb0883c70>]"
      ]
     },
     "execution_count": 46,
     "metadata": {},
     "output_type": "execute_result"
    },
    {
     "data": {
      "image/png": "[encoded data removed]",
      "text/plain": [
       "<Figure size 432x288 with 1 Axes>"
      ]
     },
     "metadata": {
      "needs_background": "light"
     },
     "output_type": "display_data"
    }
   ],
   "source": [
    "# Compare whether the drugs differ in their effect at significance level 5%\n",
    "# H_0: mu1 == mu2\n",
    "# H_1: mu1 != mu2\n",
    "\n",
    "plt.plot(sleep.loc[sleep['group']==1, 'extra'], sleep.loc[sleep['group']==1, 'group'], 'o')\n",
    "plt.plot(sleep.loc[sleep['group']==2, 'extra'], sleep.loc[sleep['group']==2, 'group'], 'x')"
   ]
  },
  {
   "cell_type": "code",
   "execution_count": 54,
   "metadata": {},
   "outputs": [
    {
     "data": {
      "text/plain": [
       "Ttest_indResult(statistic=-1.8608134674868526, pvalue=0.07918671421593818)"
      ]
     },
     "execution_count": 54,
     "metadata": {},
     "output_type": "execute_result"
    }
   ],
   "source": [
    "stats.ttest_ind(sleep.loc[sleep['group']==1, 'extra'], sleep.loc[sleep['group']==2, 'extra'])"
   ]
  },
  {
   "cell_type": "code",
   "execution_count": 47,
   "metadata": {},
   "outputs": [],
   "source": [
    "p_value = stats.ttest_ind(sleep.loc[sleep['group']==1, 'extra'], sleep.loc[sleep['group']==2, 'extra']).pvalue"
   ]
  },
  {
   "cell_type": "code",
   "execution_count": 48,
   "metadata": {},
   "outputs": [
    {
     "data": {
      "text/plain": [
       "0.07918671421593818"
      ]
     },
     "execution_count": 48,
     "metadata": {},
     "output_type": "execute_result"
    }
   ],
   "source": [
    "p_value"
   ]
  },
  {
   "cell_type": "code",
   "execution_count": 49,
   "metadata": {},
   "outputs": [
    {
     "name": "stdout",
     "output_type": "stream",
     "text": [
      "p-value 0.07918671421593818 - not enough evidence against H_0\n"
     ]
    }
   ],
   "source": [
    "if p_value>=0.05:\n",
    "    print(f'p-value {p_value} - not enough evidence against H_0' )\n",
    "else:\n",
    "    print(f'p-value {p_value} - enough evidence against H_0')"
   ]
  },
  {
   "cell_type": "markdown",
   "metadata": {},
   "source": [
    "#### Computation"
   ]
  },
  {
   "cell_type": "code",
   "execution_count": 55,
   "metadata": {},
   "outputs": [],
   "source": [
    "mean_x = sleep.loc[sleep['group']==1, 'extra'].mean()\n",
    "mean_y = sleep.loc[sleep['group']==2, 'extra'].mean()\n",
    "\n",
    "var_x = sleep.loc[sleep['group']==1, 'extra'].var(ddof=1)\n",
    "var_y = sleep.loc[sleep['group']==2, 'extra'].var(ddof=1)\n",
    "\n",
    "n = sleep.loc[sleep['group']==1, 'extra'].shape[0]\n",
    "m = sleep.loc[sleep['group']==2, 'extra'].shape[0]\n",
    "\n",
    "t_obs = (mean_x-mean_y)/np.sqrt((var_x/n)+(var_y/m))"
   ]
  },
  {
   "cell_type": "code",
   "execution_count": 56,
   "metadata": {},
   "outputs": [
    {
     "data": {
      "text/plain": [
       "-1.8608134674868526"
      ]
     },
     "execution_count": 56,
     "metadata": {},
     "output_type": "execute_result"
    }
   ],
   "source": [
    "t_obs"
   ]
  },
  {
   "cell_type": "code",
   "execution_count": 57,
   "metadata": {},
   "outputs": [],
   "source": [
    "dof_t = (((var_x/n)+(var_y/m))**2)/((var_x/n)**2/(n-1) + (var_y/m)**2/(m-1))"
   ]
  },
  {
   "cell_type": "code",
   "execution_count": 58,
   "metadata": {},
   "outputs": [
    {
     "data": {
      "text/plain": [
       "17.776473516178495"
      ]
     },
     "execution_count": 58,
     "metadata": {},
     "output_type": "execute_result"
    }
   ],
   "source": [
    "dof_t"
   ]
  },
  {
   "cell_type": "code",
   "execution_count": 61,
   "metadata": {},
   "outputs": [],
   "source": [
    "p_value_anlytical = 2*min(stats.t.cdf(t_obs, dof_t), 1-stats.t.cdf(t_obs, dof_t))"
   ]
  },
  {
   "cell_type": "code",
   "execution_count": null,
   "metadata": {},
   "outputs": [],
   "source": []
  },
  {
   "cell_type": "markdown",
   "metadata": {},
   "source": [
    "### Paired t-test\n",
    "\n",
    "The two-sample t-test assumes that the samples are independent. What if this is not the case:\n",
    "* A comparison of two measurement devices where both devices are used to measure same subject under same circumstances\n",
    "* A drug study where the subject's responses are measured both before and after the treatment\n",
    "* A comparison of health-related lifestyle choices of matched pairs, such as spouses."
   ]
  },
  {
   "cell_type": "markdown",
   "metadata": {},
   "source": [
    "Paired t-test, assumptions\n",
    "\n",
    "\n",
    "Observations consist of i.i.d sample of pairs $(x_{i1}, x_{i2})$, $i=1,2...n$ ( the values within the pair need not be independent). The differences $d_i = x_{i1} - x_{i2}$ have the normal distribution $\\mathcal{N}(\\mu_d, \\sigma_d^2)$.\n",
    "\n",
    "Paired t-test hypotheses $$H_0: \\mu_d==0, H_1:mu_d \\neq 0$$\n",
    "\n",
    "Apply the one-sample t-test to the differences $d_i$, to test if their expected value is 0 ( whether there is no systematic difference between values in pairs) "
   ]
  },
  {
   "cell_type": "markdown",
   "metadata": {},
   "source": [
    "### Variance test\n",
    "\n",
    "The variance test compares the variance of a distribution to a given constant.\n",
    "\n",
    "Variance test, assumptions \n",
    "* Let $x_1, x_2,..., x_n$ be an i.i.d sample from a $\\mathcal{N}(\\mu, \\sigma^2)$.\n",
    "\n",
    "Variance test, hypotheses $$H_0: \\sigma^2 = \\sigma^2_0, H_1: \\sigma^2 \\neq \\sigma^2_0$$\n",
    "\n",
    "\n",
    "Variance test, test statistic\n",
    "* The $\\chi^2$-test statistic $$\\chi^2 = \\frac{(n-1)s^2}{\\sigma_0^2}$$ follows $\\chi^2$-distribution with $(n-1)$ degrees of freedom under $H_0$\n",
    "\n",
    "* The expected value of the test statistic under $H_0$ is n-1\n",
    "\n",
    "The variance test is sensitive to deviations from normality and doesn't work, even for large samples, if the underlying distribution is skewed."
   ]
  },
  {
   "cell_type": "markdown",
   "metadata": {},
   "source": [
    "#### Variance test example"
   ]
  },
  {
   "cell_type": "code",
   "execution_count": 63,
   "metadata": {},
   "outputs": [
    {
     "data": {
      "text/html": [
       "<div>\n",
       "<style scoped>\n",
       "    .dataframe tbody tr th:only-of-type {\n",
       "        vertical-align: middle;\n",
       "    }\n",
       "\n",
       "    .dataframe tbody tr th {\n",
       "        vertical-align: top;\n",
       "    }\n",
       "\n",
       "    .dataframe thead th {\n",
       "        text-align: right;\n",
       "    }\n",
       "</style>\n",
       "<table border=\"1\" class=\"dataframe\">\n",
       "  <thead>\n",
       "    <tr style=\"text-align: right;\">\n",
       "      <th></th>\n",
       "      <th>Girth</th>\n",
       "      <th>Height</th>\n",
       "      <th>Volume</th>\n",
       "    </tr>\n",
       "  </thead>\n",
       "  <tbody>\n",
       "    <tr>\n",
       "      <th>0</th>\n",
       "      <td>8.3</td>\n",
       "      <td>70</td>\n",
       "      <td>10.3</td>\n",
       "    </tr>\n",
       "    <tr>\n",
       "      <th>1</th>\n",
       "      <td>8.6</td>\n",
       "      <td>65</td>\n",
       "      <td>10.3</td>\n",
       "    </tr>\n",
       "    <tr>\n",
       "      <th>2</th>\n",
       "      <td>8.8</td>\n",
       "      <td>63</td>\n",
       "      <td>10.2</td>\n",
       "    </tr>\n",
       "    <tr>\n",
       "      <th>3</th>\n",
       "      <td>10.5</td>\n",
       "      <td>72</td>\n",
       "      <td>16.4</td>\n",
       "    </tr>\n",
       "    <tr>\n",
       "      <th>4</th>\n",
       "      <td>10.7</td>\n",
       "      <td>81</td>\n",
       "      <td>18.8</td>\n",
       "    </tr>\n",
       "  </tbody>\n",
       "</table>\n",
       "</div>"
      ],
      "text/plain": [
       "   Girth  Height  Volume\n",
       "0    8.3      70    10.3\n",
       "1    8.6      65    10.3\n",
       "2    8.8      63    10.2\n",
       "3   10.5      72    16.4\n",
       "4   10.7      81    18.8"
      ]
     },
     "execution_count": 63,
     "metadata": {},
     "output_type": "execute_result"
    }
   ],
   "source": [
    "# This data set provides measurements of the girth, height and volume of timber in 31 felled black cherry trees.\n",
    "trees = sm.datasets.get_rdataset(\"trees\",cache=True).data\n",
    "trees.head()"
   ]
  },
  {
   "cell_type": "code",
   "execution_count": 64,
   "metadata": {},
   "outputs": [],
   "source": [
    "# We test if the standard deviation of the height of the felled trees is equal to 5\n",
    "\n",
    "# Test the following hypotheses with sighnificance level 5%\n",
    "# H_0: sigma^2 == 5**2 = 25\n",
    "# H_1: sigma^2 != 25\n",
    "\n",
    "n = trees.shape[0]"
   ]
  },
  {
   "cell_type": "code",
   "execution_count": 65,
   "metadata": {},
   "outputs": [
    {
     "data": {
      "text/plain": [
       "31"
      ]
     },
     "execution_count": 65,
     "metadata": {},
     "output_type": "execute_result"
    }
   ],
   "source": [
    "n"
   ]
  },
  {
   "cell_type": "code",
   "execution_count": 66,
   "metadata": {},
   "outputs": [],
   "source": [
    "var_0 = 25\n",
    "var_sample = trees['Height'].var()"
   ]
  },
  {
   "cell_type": "code",
   "execution_count": 67,
   "metadata": {},
   "outputs": [],
   "source": [
    "chi_test_obs = (n-1)*var_sample/var_0"
   ]
  },
  {
   "cell_type": "code",
   "execution_count": 68,
   "metadata": {},
   "outputs": [
    {
     "data": {
      "text/plain": [
       "48.72"
      ]
     },
     "execution_count": 68,
     "metadata": {},
     "output_type": "execute_result"
    }
   ],
   "source": [
    "chi_test_obs"
   ]
  },
  {
   "cell_type": "code",
   "execution_count": 69,
   "metadata": {},
   "outputs": [],
   "source": [
    "chi_dist = stats.chi2.rvs(n-1, size=10000)"
   ]
  },
  {
   "cell_type": "code",
   "execution_count": 70,
   "metadata": {},
   "outputs": [
    {
     "data": {
      "text/plain": [
       "<matplotlib.lines.Line2D at 0x7f1eae141130>"
      ]
     },
     "execution_count": 70,
     "metadata": {},
     "output_type": "execute_result"
    },
    {
     "data": {
      "image/png": "[encoded data removed]",
      "text/plain": [
       "<Figure size 432x288 with 1 Axes>"
      ]
     },
     "metadata": {
      "needs_background": "light"
     },
     "output_type": "display_data"
    }
   ],
   "source": [
    "plt.hist(chi_dist)\n",
    "plt.axvline(chi_test_obs, c='g')\n",
    "plt.axvline(np.quantile(chi_dist, 0.025), c='r')\n",
    "plt.axvline(np.quantile(chi_dist, 0.975), c='r')"
   ]
  },
  {
   "cell_type": "code",
   "execution_count": 75,
   "metadata": {},
   "outputs": [],
   "source": [
    "p_value = 2* min(stats.chi2.sf(chi_test_obs, n-1), stats.chi2.cdf(chi_test_obs, n-1))"
   ]
  },
  {
   "cell_type": "code",
   "execution_count": 76,
   "metadata": {},
   "outputs": [
    {
     "name": "stdout",
     "output_type": "stream",
     "text": [
      "p-value 0.0335632757911659 - enough evidence against H_0\n"
     ]
    }
   ],
   "source": [
    "if p_value>=0.05:\n",
    "    print(f'p-value {p_value} - not enough evidence against H_0' )\n",
    "else:\n",
    "    print(f'p-value {p_value} - enough evidence against H_0')"
   ]
  },
  {
   "cell_type": "markdown",
   "metadata": {},
   "source": [
    "### Variance comparison test\n",
    "\n",
    "The variance comparison test compares the variances of two distributions\n",
    "\n",
    "Variance comparison test assumptions\n",
    "* Let $x_1, x_2, ..., x_n$ be an i.i.d sample from $\\mathcal{N}(\\mu_x, \\sigma_x^2)$ and $y_1, y_2,..,y_m$ be an i.i.d from $\\mathcal{N}(\\mu_y, \\sigma_y^2)$. Furthermore, let the two samples be independent\n",
    "\n",
    "Variance comparison test hypotheses $$H_0: \\sigma_x^2 = \\sigma_y^2, H_1: \\sigma_x^2 \\neq \\sigma_y^2$$\n",
    "\n",
    "\n",
    "Variance comparison test, test statistic\n",
    "* The F_test statistic $$F = \\frac{s_x^2}{s_y^2}$$\n",
    "\n",
    "follows the F-distribution with $n-1$ and $m-1$ degrees of freedom under $H_0$\n",
    "\n",
    "The expected value of the test statistic under $H_0$ is ~1 and both large or small values of the test statistic suggest that the null hypothesis $H_0$ is false.\n",
    "\n",
    "Also the variance comparison test is sensitive to deviations from normality and does nit work, even with large sample size, if the underlying distribution is skewed."
   ]
  },
  {
   "cell_type": "markdown",
   "metadata": {},
   "source": [
    "#### Variance comparison test example"
   ]
  },
  {
   "cell_type": "code",
   "execution_count": 77,
   "metadata": {},
   "outputs": [
    {
     "data": {
      "text/html": [
       "<div>\n",
       "<style scoped>\n",
       "    .dataframe tbody tr th:only-of-type {\n",
       "        vertical-align: middle;\n",
       "    }\n",
       "\n",
       "    .dataframe tbody tr th {\n",
       "        vertical-align: top;\n",
       "    }\n",
       "\n",
       "    .dataframe thead th {\n",
       "        text-align: right;\n",
       "    }\n",
       "</style>\n",
       "<table border=\"1\" class=\"dataframe\">\n",
       "  <thead>\n",
       "    <tr style=\"text-align: right;\">\n",
       "      <th></th>\n",
       "      <th>extra</th>\n",
       "      <th>group</th>\n",
       "      <th>ID</th>\n",
       "    </tr>\n",
       "  </thead>\n",
       "  <tbody>\n",
       "    <tr>\n",
       "      <th>0</th>\n",
       "      <td>0.7</td>\n",
       "      <td>1</td>\n",
       "      <td>1</td>\n",
       "    </tr>\n",
       "    <tr>\n",
       "      <th>1</th>\n",
       "      <td>-1.6</td>\n",
       "      <td>1</td>\n",
       "      <td>2</td>\n",
       "    </tr>\n",
       "    <tr>\n",
       "      <th>2</th>\n",
       "      <td>-0.2</td>\n",
       "      <td>1</td>\n",
       "      <td>3</td>\n",
       "    </tr>\n",
       "    <tr>\n",
       "      <th>3</th>\n",
       "      <td>-1.2</td>\n",
       "      <td>1</td>\n",
       "      <td>4</td>\n",
       "    </tr>\n",
       "    <tr>\n",
       "      <th>4</th>\n",
       "      <td>-0.1</td>\n",
       "      <td>1</td>\n",
       "      <td>5</td>\n",
       "    </tr>\n",
       "  </tbody>\n",
       "</table>\n",
       "</div>"
      ],
      "text/plain": [
       "   extra  group  ID\n",
       "0    0.7      1   1\n",
       "1   -1.6      1   2\n",
       "2   -0.2      1   3\n",
       "3   -1.2      1   4\n",
       "4   -0.1      1   5"
      ]
     },
     "execution_count": 77,
     "metadata": {},
     "output_type": "execute_result"
    }
   ],
   "source": [
    "sleep.head()"
   ]
  },
  {
   "cell_type": "code",
   "execution_count": 102,
   "metadata": {},
   "outputs": [],
   "source": [
    "# Compare whether the variance of the drug effect differ in the sleep data at significance level 5%\n",
    "# H_0: sigma_1^2 == sigma_2^2\n",
    "# H_1: sigma_1^2 != sigma_2^2\n",
    "\n",
    "var_1 = sleep.loc[sleep['group']==1, 'extra'].var()\n",
    "var_2 = sleep.loc[sleep['group']==2, 'extra'].var()"
   ]
  },
  {
   "cell_type": "code",
   "execution_count": 103,
   "metadata": {},
   "outputs": [
    {
     "data": {
      "text/plain": [
       "(3.200555555555556, 4.0089999999999995)"
      ]
     },
     "execution_count": 103,
     "metadata": {},
     "output_type": "execute_result"
    }
   ],
   "source": [
    "var_1, var_2"
   ]
  },
  {
   "cell_type": "code",
   "execution_count": 104,
   "metadata": {},
   "outputs": [],
   "source": [
    "test_statistics = var_1/var_2"
   ]
  },
  {
   "cell_type": "code",
   "execution_count": 105,
   "metadata": {},
   "outputs": [],
   "source": [
    "n = sleep.loc[sleep['group']==1].shape[0]\n",
    "m = sleep.loc[sleep['group']==2].shape[0]"
   ]
  },
  {
   "cell_type": "code",
   "execution_count": 106,
   "metadata": {},
   "outputs": [],
   "source": [
    "sample = stats.f.rvs(n-1, m-1, size=10000)"
   ]
  },
  {
   "cell_type": "code",
   "execution_count": 107,
   "metadata": {},
   "outputs": [
    {
     "data": {
      "text/plain": [
       "<matplotlib.lines.Line2D at 0x7f1eae464dc0>"
      ]
     },
     "execution_count": 107,
     "metadata": {},
     "output_type": "execute_result"
    },
    {
     "data": {
      "image/png": "[encoded data removed]",
      "text/plain": [
       "<Figure size 432x288 with 1 Axes>"
      ]
     },
     "metadata": {
      "needs_background": "light"
     },
     "output_type": "display_data"
    }
   ],
   "source": [
    "plt.hist(sample)\n",
    "plt.axvline(np.quantile(sample, 0.025), c='r')\n",
    "plt.axvline(np.quantile(sample, 0.975), c='r')\n",
    "plt.axvline(test_statistics, c='g')"
   ]
  },
  {
   "cell_type": "code",
   "execution_count": 108,
   "metadata": {},
   "outputs": [
    {
     "data": {
      "text/plain": [
       "0.7326"
      ]
     },
     "execution_count": 108,
     "metadata": {},
     "output_type": "execute_result"
    }
   ],
   "source": [
    "# p_value simulation\n",
    "2* min((sample>=test_statistics).mean(), (sample<=test_statistics).mean() )"
   ]
  },
  {
   "cell_type": "code",
   "execution_count": null,
   "metadata": {},
   "outputs": [],
   "source": []
  },
  {
   "cell_type": "code",
   "execution_count": null,
   "metadata": {},
   "outputs": [],
   "source": []
  },
  {
   "cell_type": "code",
   "execution_count": 90,
   "metadata": {},
   "outputs": [
    {
     "name": "stdout",
     "output_type": "stream",
     "text": [
      "Variance a=3.201, Variance b=4.009\n",
      "0.7983426179983927 0.24838585469445493 4.025994158282978\n",
      "Cant Reject H0 0.7427199317260454\n"
     ]
    }
   ],
   "source": [
    "a = sleep.loc[sleep['group']==1, 'extra']\n",
    "b = sleep.loc[sleep['group']==2, 'extra']\n",
    "print('Variance a={0:.3f}, Variance b={1:.3f}'.format(np.var(a, ddof=1), np.var(b, ddof=1)))\n",
    "fstatistics = np.var(a, ddof=1)/np.var(b, ddof=1) # because we estimate mean from data\n",
    "fdistribution = stats.f(len(a)-1,len(b)-1) # build an F-distribution object\n",
    "p_value = 2*min(fdistribution.cdf(fstatistics), 1-fdistribution.cdf(fstatistics))\n",
    "f_critical1 = fdistribution.ppf(0.025)\n",
    "f_critical2 = fdistribution.ppf(0.975)\n",
    "print(fstatistics,f_critical1, f_critical2 )\n",
    "if (p_value<0.05):\n",
    "    print('Reject H0', p_value)\n",
    "else:\n",
    "    print('Cant Reject H0', p_value)"
   ]
  },
  {
   "cell_type": "code",
   "execution_count": null,
   "metadata": {},
   "outputs": [],
   "source": []
  }
 ],
 "metadata": {
  "kernelspec": {
   "display_name": "Python 3",
   "language": "python",
   "name": "python3"
  },
  "language_info": {
   "codemirror_mode": {
    "name": "ipython",
    "version": 3
   },
   "file_extension": ".py",
   "mimetype": "text/x-python",
   "name": "python",
   "nbconvert_exporter": "python",
   "pygments_lexer": "ipython3",
   "version": "3.8.3"
  }
 },
 "nbformat": 4,
 "nbformat_minor": 4
}
